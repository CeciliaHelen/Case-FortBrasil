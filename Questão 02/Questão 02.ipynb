{
 "cells": [
  {
   "cell_type": "markdown",
   "id": "9928a631",
   "metadata": {},
   "source": [
    "# Case FortBrasil\n",
    "***"
   ]
  },
  {
   "cell_type": "markdown",
   "id": "8338bd0d",
   "metadata": {},
   "source": [
    "###  **Legenda:**\n",
    "- **ID_CONTA:** Identificador da conta;\n",
    "- **DT_ACORDO:** Data do acordo;\n",
    "- **NU_DIAS_ATRASO:** Número de dias após o vencimento que esse cliente está sem pagar;\n",
    "- **VALOR_CRELIQ:** Valor da dívida do cliente quando ele ultrapassa os 65 dias de atraso;\n",
    "- **DIVIDA_ATUAL:** Dívida atualizada com juros;\n",
    "- **RESPOSTA:** Se for 1, significa que o cliente aderiu aquele acordo. Ou seja, efetuou o pagamento da entrada. Se for 0, caso contrário. \n",
    "- **QTD_PARCELAMENTO_XM:** Quantidade de parcelamentos de fatura aderidos X meses antes da fatura que ele deixou de pagar.\n",
    "- **LIMITE:** Limite total do cliente;\n",
    "- **QTD_EXTRATOS:** Quantidade de Faturas emitidas;\n",
    "- **QTD_FX0:** Quantidade de faturas emitidas em dia;\n",
    "- **QTD_FX1:** Quantidade de faturas emitidas no qual o cliente não pagou a fatura do mês anterior;\n",
    "- **QTD_FX2:** Quantidade de faturas emitidas no qual o cliente não pagou as duas ultimas faturas anteriores;\n",
    "- **QTD_ACIONAMENTO:** Quantidade de vezes que ligamos para os clientes para cobrar a sua dívida;\n",
    "- **QTD_CP:** Quantidade de vezes que a ligação foi atendida, mas não houve contato com o cliente;\n",
    "- **QTD_CPC:** Quantidade de vezes que o próprio cliente atendeu a ligação de cobrança.\n",
    "- **DEFINIÇÃO:** Acordo é uma proposta de negociação da dívida por parte da Fortbrasil para clientes que estão com mais de 180 dias de atraso."
   ]
  },
  {
   "cell_type": "markdown",
   "id": "afabd861",
   "metadata": {},
   "source": [
    "## Questão 02\n",
    "### 2.1. Qual o percentual de adesão mensal por faixa de atraso (Histórico)?\n",
    "***"
   ]
  },
  {
   "cell_type": "markdown",
   "id": "e07e610a",
   "metadata": {},
   "source": [
    "### Importação das bibliotecas\n",
    "Seleção de bibliotecas para manipulação de dados, criação de gráficos e tradução dos meses a serem usados do inglês para o português."
   ]
  },
  {
   "cell_type": "code",
   "execution_count": 18,
   "id": "56171fac",
   "metadata": {},
   "outputs": [],
   "source": [
    "import pandas as pd\n",
    "import numpy as np\n",
    "from matplotlib import pyplot as plt\n",
    "pd.options.mode.chained_assignment = None  # default='warn'\n",
    "import locale"
   ]
  },
  {
   "cell_type": "code",
   "execution_count": 19,
   "id": "728b15ea",
   "metadata": {},
   "outputs": [],
   "source": [
    "try:\n",
    "    locale.setlocale(locale.LC_ALL, 'pt_BR')\n",
    "except:\n",
    "    locale.setlocale(locale.LC_ALL, 'Portuguese_Brazil')"
   ]
  },
  {
   "cell_type": "markdown",
   "id": "b6ee2cb1",
   "metadata": {},
   "source": [
    "### Leitura da base de dados"
   ]
  },
  {
   "cell_type": "markdown",
   "id": "1bda3c23",
   "metadata": {},
   "source": [
    "Repare que nos é fornecido 5 bases de dados, no entanto, para essa questão, usaremos apenas a base de dados 1, pois é nela que encontraremos as principais colunas para a solucionar o que se pede."
   ]
  },
  {
   "cell_type": "code",
   "execution_count": 20,
   "id": "55a0a60b-fb53-4289-b10a-97541f89df39",
   "metadata": {},
   "outputs": [
    {
     "data": {
      "text/html": [
       "<div>\n",
       "<style scoped>\n",
       "    .dataframe tbody tr th:only-of-type {\n",
       "        vertical-align: middle;\n",
       "    }\n",
       "\n",
       "    .dataframe tbody tr th {\n",
       "        vertical-align: top;\n",
       "    }\n",
       "\n",
       "    .dataframe thead th {\n",
       "        text-align: right;\n",
       "    }\n",
       "</style>\n",
       "<table border=\"1\" class=\"dataframe\">\n",
       "  <thead>\n",
       "    <tr style=\"text-align: right;\">\n",
       "      <th></th>\n",
       "      <th>ID_CONTA</th>\n",
       "      <th>DT_ACORDO</th>\n",
       "      <th>NU_DIAS_ATRASO</th>\n",
       "      <th>VALOR_CRELIQ</th>\n",
       "      <th>DIVIDA_ATUAL</th>\n",
       "      <th>RESPOSTA</th>\n",
       "    </tr>\n",
       "  </thead>\n",
       "  <tbody>\n",
       "    <tr>\n",
       "      <th>0</th>\n",
       "      <td>1194908</td>\n",
       "      <td>2018-11-22</td>\n",
       "      <td>221</td>\n",
       "      <td>324.38</td>\n",
       "      <td>463.73</td>\n",
       "      <td>0</td>\n",
       "    </tr>\n",
       "    <tr>\n",
       "      <th>1</th>\n",
       "      <td>1447997</td>\n",
       "      <td>2018-11-22</td>\n",
       "      <td>191</td>\n",
       "      <td>334.82</td>\n",
       "      <td>451.56</td>\n",
       "      <td>1</td>\n",
       "    </tr>\n",
       "    <tr>\n",
       "      <th>2</th>\n",
       "      <td>1035415</td>\n",
       "      <td>2018-11-22</td>\n",
       "      <td>252</td>\n",
       "      <td>1682.26</td>\n",
       "      <td>2554.18</td>\n",
       "      <td>0</td>\n",
       "    </tr>\n",
       "    <tr>\n",
       "      <th>3</th>\n",
       "      <td>1069434</td>\n",
       "      <td>2018-11-22</td>\n",
       "      <td>231</td>\n",
       "      <td>1625.01</td>\n",
       "      <td>2368.65</td>\n",
       "      <td>0</td>\n",
       "    </tr>\n",
       "    <tr>\n",
       "      <th>4</th>\n",
       "      <td>1427566</td>\n",
       "      <td>2018-11-22</td>\n",
       "      <td>270</td>\n",
       "      <td>320.07</td>\n",
       "      <td>503.25</td>\n",
       "      <td>0</td>\n",
       "    </tr>\n",
       "  </tbody>\n",
       "</table>\n",
       "</div>"
      ],
      "text/plain": [
       "   ID_CONTA   DT_ACORDO  NU_DIAS_ATRASO  VALOR_CRELIQ  DIVIDA_ATUAL  RESPOSTA\n",
       "0   1194908  2018-11-22             221        324.38        463.73         0\n",
       "1   1447997  2018-11-22             191        334.82        451.56         1\n",
       "2   1035415  2018-11-22             252       1682.26       2554.18         0\n",
       "3   1069434  2018-11-22             231       1625.01       2368.65         0\n",
       "4   1427566  2018-11-22             270        320.07        503.25         0"
      ]
     },
     "execution_count": 20,
     "metadata": {},
     "output_type": "execute_result"
    }
   ],
   "source": [
    "df_inicial = pd.read_csv('Questão 2 - Base 1.txt', sep = \"\\t\")\n",
    "df_inicial.head()"
   ]
  },
  {
   "cell_type": "markdown",
   "id": "f54808c5",
   "metadata": {},
   "source": [
    "### Verificação de NaN\n",
    "É sempre interessante que tratemos os NaN, pois eles interferem em nossa modelagem de dados. Para esse caso, não foi encontrado nenhum."
   ]
  },
  {
   "cell_type": "code",
   "execution_count": 21,
   "id": "44c84544",
   "metadata": {
    "scrolled": true
   },
   "outputs": [
    {
     "data": {
      "text/plain": [
       "ID_CONTA          0\n",
       "DT_ACORDO         0\n",
       "NU_DIAS_ATRASO    0\n",
       "VALOR_CRELIQ      0\n",
       "DIVIDA_ATUAL      0\n",
       "RESPOSTA          0\n",
       "dtype: int64"
      ]
     },
     "execution_count": 21,
     "metadata": {},
     "output_type": "execute_result"
    }
   ],
   "source": [
    "# Sem registros de NaN nas colunas\n",
    "df_inicial.isna().sum()"
   ]
  },
  {
   "cell_type": "markdown",
   "id": "2b6d8df1",
   "metadata": {},
   "source": [
    "## Solução\n"
   ]
  },
  {
   "cell_type": "markdown",
   "id": "6c9083f7",
   "metadata": {},
   "source": [
    "### 1. Filtrar colunas importantes a serem usadas "
   ]
  },
  {
   "cell_type": "markdown",
   "id": "80d464d9",
   "metadata": {},
   "source": [
    "Após o tratamento dos dados, devemos selecionar a(s) informação(ões) útil(eis) para a manipulação dos dados. Assim, de acordo com o enunciado, precisamos apenas do mês da fatura emitida e dos clientes que não pagaram a fatura anterior."
   ]
  },
  {
   "cell_type": "code",
   "execution_count": 22,
   "id": "b11966bb",
   "metadata": {},
   "outputs": [
    {
     "data": {
      "text/html": [
       "<div>\n",
       "<style scoped>\n",
       "    .dataframe tbody tr th:only-of-type {\n",
       "        vertical-align: middle;\n",
       "    }\n",
       "\n",
       "    .dataframe tbody tr th {\n",
       "        vertical-align: top;\n",
       "    }\n",
       "\n",
       "    .dataframe thead th {\n",
       "        text-align: right;\n",
       "    }\n",
       "</style>\n",
       "<table border=\"1\" class=\"dataframe\">\n",
       "  <thead>\n",
       "    <tr style=\"text-align: right;\">\n",
       "      <th></th>\n",
       "      <th>DT_ACORDO</th>\n",
       "      <th>NU_DIAS_ATRASO</th>\n",
       "      <th>RESPOSTA</th>\n",
       "    </tr>\n",
       "  </thead>\n",
       "  <tbody>\n",
       "    <tr>\n",
       "      <th>0</th>\n",
       "      <td>2018-11-22</td>\n",
       "      <td>221</td>\n",
       "      <td>0</td>\n",
       "    </tr>\n",
       "    <tr>\n",
       "      <th>1</th>\n",
       "      <td>2018-11-22</td>\n",
       "      <td>191</td>\n",
       "      <td>1</td>\n",
       "    </tr>\n",
       "    <tr>\n",
       "      <th>2</th>\n",
       "      <td>2018-11-22</td>\n",
       "      <td>252</td>\n",
       "      <td>0</td>\n",
       "    </tr>\n",
       "    <tr>\n",
       "      <th>3</th>\n",
       "      <td>2018-11-22</td>\n",
       "      <td>231</td>\n",
       "      <td>0</td>\n",
       "    </tr>\n",
       "    <tr>\n",
       "      <th>4</th>\n",
       "      <td>2018-11-22</td>\n",
       "      <td>270</td>\n",
       "      <td>0</td>\n",
       "    </tr>\n",
       "  </tbody>\n",
       "</table>\n",
       "</div>"
      ],
      "text/plain": [
       "    DT_ACORDO  NU_DIAS_ATRASO  RESPOSTA\n",
       "0  2018-11-22             221         0\n",
       "1  2018-11-22             191         1\n",
       "2  2018-11-22             252         0\n",
       "3  2018-11-22             231         0\n",
       "4  2018-11-22             270         0"
      ]
     },
     "execution_count": 22,
     "metadata": {},
     "output_type": "execute_result"
    }
   ],
   "source": [
    "df_filtrado = df_inicial[['DT_ACORDO','NU_DIAS_ATRASO','RESPOSTA']]\n",
    "df_filtrado.head()"
   ]
  },
  {
   "cell_type": "markdown",
   "id": "5624c904",
   "metadata": {},
   "source": [
    "### 2. Verificar os tipos dos dados das colunas\n",
    "A fase de verificação dos tipos dos dados do dataset é importante, pois temos como objetivo o percentual de **adesão mensal** por faixa de atraso, ou seja, necessitaremos filtrar as datas presentes na coluna 'DT_ACORDO' e isso só é possível quando temos o datetime como tipo de dado."
   ]
  },
  {
   "cell_type": "code",
   "execution_count": 23,
   "id": "898529d8",
   "metadata": {},
   "outputs": [
    {
     "name": "stdout",
     "output_type": "stream",
     "text": [
      "<class 'pandas.core.frame.DataFrame'>\n",
      "RangeIndex: 72533 entries, 0 to 72532\n",
      "Data columns (total 3 columns):\n",
      " #   Column          Non-Null Count  Dtype \n",
      "---  ------          --------------  ----- \n",
      " 0   DT_ACORDO       72533 non-null  object\n",
      " 1   NU_DIAS_ATRASO  72533 non-null  int64 \n",
      " 2   RESPOSTA        72533 non-null  int64 \n",
      "dtypes: int64(2), object(1)\n",
      "memory usage: 1.7+ MB\n"
     ]
    }
   ],
   "source": [
    "df_filtrado.info()"
   ]
  },
  {
   "cell_type": "markdown",
   "id": "d98dff71",
   "metadata": {},
   "source": [
    "### 3. Transformação object em datetime\n",
    "Com base no tópico 2, constatamos que a coluna 'DT_ACORDO' é do tipo object. Dessa maneira, devemos transformá-la em datetime."
   ]
  },
  {
   "cell_type": "code",
   "execution_count": 24,
   "id": "3dec73af",
   "metadata": {
    "scrolled": true
   },
   "outputs": [
    {
     "name": "stdout",
     "output_type": "stream",
     "text": [
      "<class 'pandas.core.frame.DataFrame'>\n",
      "RangeIndex: 72533 entries, 0 to 72532\n",
      "Data columns (total 3 columns):\n",
      " #   Column          Non-Null Count  Dtype         \n",
      "---  ------          --------------  -----         \n",
      " 0   DT_ACORDO       72533 non-null  datetime64[ns]\n",
      " 1   NU_DIAS_ATRASO  72533 non-null  int64         \n",
      " 2   RESPOSTA        72533 non-null  int64         \n",
      "dtypes: datetime64[ns](1), int64(2)\n",
      "memory usage: 1.7 MB\n"
     ]
    }
   ],
   "source": [
    "df_filtrado['DT_ACORDO'] = pd.to_datetime(df_filtrado['DT_ACORDO'])\n",
    "df_filtrado.info()"
   ]
  },
  {
   "cell_type": "markdown",
   "id": "823aac8f-e35c-4b4b-88ac-5393746c64f3",
   "metadata": {},
   "source": [
    "**A fim de tornar a visualização das datas mais fácil, devemos aplicar uma função lâmbda que ajusta o padrão data 'ano - mês - dia' para 'mês - ano'**"
   ]
  },
  {
   "cell_type": "code",
   "execution_count": 25,
   "id": "55e42f43",
   "metadata": {
    "scrolled": true
   },
   "outputs": [
    {
     "data": {
      "text/html": [
       "<div>\n",
       "<style scoped>\n",
       "    .dataframe tbody tr th:only-of-type {\n",
       "        vertical-align: middle;\n",
       "    }\n",
       "\n",
       "    .dataframe tbody tr th {\n",
       "        vertical-align: top;\n",
       "    }\n",
       "\n",
       "    .dataframe thead th {\n",
       "        text-align: right;\n",
       "    }\n",
       "</style>\n",
       "<table border=\"1\" class=\"dataframe\">\n",
       "  <thead>\n",
       "    <tr style=\"text-align: right;\">\n",
       "      <th></th>\n",
       "      <th>DT_ACORDO</th>\n",
       "      <th>NU_DIAS_ATRASO</th>\n",
       "      <th>RESPOSTA</th>\n",
       "    </tr>\n",
       "  </thead>\n",
       "  <tbody>\n",
       "    <tr>\n",
       "      <th>0</th>\n",
       "      <td>novembro - 2018</td>\n",
       "      <td>221</td>\n",
       "      <td>0</td>\n",
       "    </tr>\n",
       "    <tr>\n",
       "      <th>1</th>\n",
       "      <td>novembro - 2018</td>\n",
       "      <td>191</td>\n",
       "      <td>1</td>\n",
       "    </tr>\n",
       "    <tr>\n",
       "      <th>2</th>\n",
       "      <td>novembro - 2018</td>\n",
       "      <td>252</td>\n",
       "      <td>0</td>\n",
       "    </tr>\n",
       "    <tr>\n",
       "      <th>3</th>\n",
       "      <td>novembro - 2018</td>\n",
       "      <td>231</td>\n",
       "      <td>0</td>\n",
       "    </tr>\n",
       "    <tr>\n",
       "      <th>4</th>\n",
       "      <td>novembro - 2018</td>\n",
       "      <td>270</td>\n",
       "      <td>0</td>\n",
       "    </tr>\n",
       "  </tbody>\n",
       "</table>\n",
       "</div>"
      ],
      "text/plain": [
       "         DT_ACORDO  NU_DIAS_ATRASO  RESPOSTA\n",
       "0  novembro - 2018             221         0\n",
       "1  novembro - 2018             191         1\n",
       "2  novembro - 2018             252         0\n",
       "3  novembro - 2018             231         0\n",
       "4  novembro - 2018             270         0"
      ]
     },
     "execution_count": 25,
     "metadata": {},
     "output_type": "execute_result"
    }
   ],
   "source": [
    "df_filtrado['DT_ACORDO'] = df_filtrado['DT_ACORDO'].apply(lambda x: x.strftime(\"%B - %Y\"))\n",
    "df_filtrado.head()"
   ]
  },
  {
   "cell_type": "markdown",
   "id": "e2200055",
   "metadata": {},
   "source": [
    "### 4. Verificar a faixa total de atraso (min e max)"
   ]
  },
  {
   "cell_type": "markdown",
   "id": "6e10a75f-fb4e-4422-b594-9b47f52c8926",
   "metadata": {},
   "source": [
    "Devemos verificar os valores mínimos e máximos dos dias de atraso, pois temos como objetivo calcular o percentual de adesão mensal por **faixa de atraso**. Ou seja, a partir desses extremos, seremos capazes de coletar dados dentro de faixas de atraso menores para, no fim, somarmos os valores encontrados, obtendo a faixa total."
   ]
  },
  {
   "cell_type": "code",
   "execution_count": 26,
   "id": "f61044a2",
   "metadata": {
    "scrolled": true
   },
   "outputs": [
    {
     "data": {
      "text/plain": [
       "count    72533.000000\n",
       "mean       326.609640\n",
       "std         97.165081\n",
       "min        181.000000\n",
       "25%        245.000000\n",
       "50%        311.000000\n",
       "75%        400.000000\n",
       "max        540.000000\n",
       "Name: NU_DIAS_ATRASO, dtype: float64"
      ]
     },
     "execution_count": 26,
     "metadata": {},
     "output_type": "execute_result"
    }
   ],
   "source": [
    "df_filtrado['NU_DIAS_ATRASO'].describe()"
   ]
  },
  {
   "cell_type": "markdown",
   "id": "47fc04a4-2c1f-44f5-add0-f871493b707f",
   "metadata": {},
   "source": [
    "### 5. Definir as faixas menores de atrasos\n",
    "Com base no que foi dito no item 4, encontramos os seguintes valores:\n",
    "\n",
    "**mínimo: 181**\n",
    "\n",
    "\n",
    "**máximo: 540**\n",
    "\n",
    "\n",
    "Assim, podemos definir um intervalo de dados. Para esse caso, usaremos um intervalo de **100**"
   ]
  },
  {
   "cell_type": "code",
   "execution_count": 27,
   "id": "f92897fd",
   "metadata": {},
   "outputs": [],
   "source": [
    "faixas_atraso = ['181 - 281', '282 - 382', '383 - 483', 'Maior que 484']"
   ]
  },
  {
   "cell_type": "markdown",
   "id": "5063d5d1-d6b9-47f1-b2cd-e2ad4f91e9e3",
   "metadata": {},
   "source": [
    "**Criação de função que verifica cada valor presente na coluna 'NU_DIAS_ATRASO' e que gera a faixa correspondente a cada um.**"
   ]
  },
  {
   "cell_type": "code",
   "execution_count": 34,
   "id": "f0670177",
   "metadata": {},
   "outputs": [
    {
     "data": {
      "text/html": [
       "<div>\n",
       "<style scoped>\n",
       "    .dataframe tbody tr th:only-of-type {\n",
       "        vertical-align: middle;\n",
       "    }\n",
       "\n",
       "    .dataframe tbody tr th {\n",
       "        vertical-align: top;\n",
       "    }\n",
       "\n",
       "    .dataframe thead th {\n",
       "        text-align: right;\n",
       "    }\n",
       "</style>\n",
       "<table border=\"1\" class=\"dataframe\">\n",
       "  <thead>\n",
       "    <tr style=\"text-align: right;\">\n",
       "      <th></th>\n",
       "      <th>DT_ACORDO</th>\n",
       "      <th>NU_DIAS_ATRASO</th>\n",
       "      <th>RESPOSTA</th>\n",
       "      <th>INTERVALOS_DEFINIDOS</th>\n",
       "    </tr>\n",
       "  </thead>\n",
       "  <tbody>\n",
       "    <tr>\n",
       "      <th>0</th>\n",
       "      <td>novembro - 2018</td>\n",
       "      <td>221</td>\n",
       "      <td>0</td>\n",
       "      <td>181 - 281</td>\n",
       "    </tr>\n",
       "    <tr>\n",
       "      <th>1</th>\n",
       "      <td>novembro - 2018</td>\n",
       "      <td>191</td>\n",
       "      <td>1</td>\n",
       "      <td>181 - 281</td>\n",
       "    </tr>\n",
       "    <tr>\n",
       "      <th>2</th>\n",
       "      <td>novembro - 2018</td>\n",
       "      <td>252</td>\n",
       "      <td>0</td>\n",
       "      <td>181 - 281</td>\n",
       "    </tr>\n",
       "    <tr>\n",
       "      <th>3</th>\n",
       "      <td>novembro - 2018</td>\n",
       "      <td>231</td>\n",
       "      <td>0</td>\n",
       "      <td>181 - 281</td>\n",
       "    </tr>\n",
       "    <tr>\n",
       "      <th>4</th>\n",
       "      <td>novembro - 2018</td>\n",
       "      <td>270</td>\n",
       "      <td>0</td>\n",
       "      <td>181 - 281</td>\n",
       "    </tr>\n",
       "    <tr>\n",
       "      <th>...</th>\n",
       "      <td>...</td>\n",
       "      <td>...</td>\n",
       "      <td>...</td>\n",
       "      <td>...</td>\n",
       "    </tr>\n",
       "    <tr>\n",
       "      <th>72528</th>\n",
       "      <td>junho - 2019</td>\n",
       "      <td>405</td>\n",
       "      <td>0</td>\n",
       "      <td>383 - 483</td>\n",
       "    </tr>\n",
       "    <tr>\n",
       "      <th>72529</th>\n",
       "      <td>junho - 2019</td>\n",
       "      <td>242</td>\n",
       "      <td>0</td>\n",
       "      <td>181 - 281</td>\n",
       "    </tr>\n",
       "    <tr>\n",
       "      <th>72530</th>\n",
       "      <td>junho - 2019</td>\n",
       "      <td>293</td>\n",
       "      <td>0</td>\n",
       "      <td>282 - 382</td>\n",
       "    </tr>\n",
       "    <tr>\n",
       "      <th>72531</th>\n",
       "      <td>junho - 2019</td>\n",
       "      <td>191</td>\n",
       "      <td>0</td>\n",
       "      <td>181 - 281</td>\n",
       "    </tr>\n",
       "    <tr>\n",
       "      <th>72532</th>\n",
       "      <td>junho - 2019</td>\n",
       "      <td>211</td>\n",
       "      <td>0</td>\n",
       "      <td>181 - 281</td>\n",
       "    </tr>\n",
       "  </tbody>\n",
       "</table>\n",
       "<p>72533 rows × 4 columns</p>\n",
       "</div>"
      ],
      "text/plain": [
       "             DT_ACORDO  NU_DIAS_ATRASO  RESPOSTA INTERVALOS_DEFINIDOS\n",
       "0      novembro - 2018             221         0            181 - 281\n",
       "1      novembro - 2018             191         1            181 - 281\n",
       "2      novembro - 2018             252         0            181 - 281\n",
       "3      novembro - 2018             231         0            181 - 281\n",
       "4      novembro - 2018             270         0            181 - 281\n",
       "...                ...             ...       ...                  ...\n",
       "72528     junho - 2019             405         0            383 - 483\n",
       "72529     junho - 2019             242         0            181 - 281\n",
       "72530     junho - 2019             293         0            282 - 382\n",
       "72531     junho - 2019             191         0            181 - 281\n",
       "72532     junho - 2019             211         0            181 - 281\n",
       "\n",
       "[72533 rows x 4 columns]"
      ]
     },
     "execution_count": 34,
     "metadata": {},
     "output_type": "execute_result"
    }
   ],
   "source": [
    "def intervalos_faixa(NU_DIAS_ATRASO):\n",
    "    # quando o 'NU_DIAS_ATRASO' possui valor de 181 a 281, registra na coluna a faixa '181 - 281'\n",
    "    if NU_DIAS_ATRASO >= 181 and NU_DIAS_ATRASO <= 281:\n",
    "        return '181 - 281'\n",
    "    # quando o 'NU_DIAS_ATRASO' possui valor de 282 a 382, registra na coluna a faixa '282 - 382'\n",
    "    elif NU_DIAS_ATRASO >= 282 and NU_DIAS_ATRASO <= 382:\n",
    "        return '282 - 382'\n",
    "    # quando o 'NU_DIAS_ATRASO' possui valor de 383 a 483, registra na coluna a faixa '383 - 483'\n",
    "    elif NU_DIAS_ATRASO >= 383 and NU_DIAS_ATRASO <= 483:\n",
    "        return '383 - 483'\n",
    "    # quando o 'NU_DIAS_ATRASO' possui valor acima de 484 (com máximo 540), registra na coluna a faixa 'Maior que 484'\n",
    "    else:\n",
    "        return 'Maior que 484'\n",
    "\n",
    "df_filtrado['INTERVALOS_DEFINIDOS'] = df_filtrado['NU_DIAS_ATRASO'].apply(lambda x: intervalos_faixa(x))\n",
    "df_filtrado"
   ]
  },
  {
   "cell_type": "markdown",
   "id": "12111f56-1077-4b68-a51a-257019a2f429",
   "metadata": {},
   "source": [
    "### 6. Porcentagem:\n",
    "Por fim, chegamos ao resultado aguardado da questão."
   ]
  },
  {
   "cell_type": "code",
   "execution_count": 37,
   "id": "db44ca5c",
   "metadata": {},
   "outputs": [
    {
     "data": {
      "text/html": [
       "<div>\n",
       "<style scoped>\n",
       "    .dataframe tbody tr th:only-of-type {\n",
       "        vertical-align: middle;\n",
       "    }\n",
       "\n",
       "    .dataframe tbody tr th {\n",
       "        vertical-align: top;\n",
       "    }\n",
       "\n",
       "    .dataframe thead th {\n",
       "        text-align: right;\n",
       "    }\n",
       "</style>\n",
       "<table border=\"1\" class=\"dataframe\">\n",
       "  <thead>\n",
       "    <tr style=\"text-align: right;\">\n",
       "      <th></th>\n",
       "      <th>DT_ACORDO</th>\n",
       "      <th>181 - 281</th>\n",
       "      <th>282 - 382</th>\n",
       "      <th>383 - 483</th>\n",
       "      <th>Maior que 484</th>\n",
       "    </tr>\n",
       "  </thead>\n",
       "  <tbody>\n",
       "    <tr>\n",
       "      <th>0</th>\n",
       "      <td>abril - 2019</td>\n",
       "      <td>14.43</td>\n",
       "      <td>12.21</td>\n",
       "      <td>5.92</td>\n",
       "      <td>2.34</td>\n",
       "    </tr>\n",
       "    <tr>\n",
       "      <th>1</th>\n",
       "      <td>junho - 2019</td>\n",
       "      <td>1.47</td>\n",
       "      <td>0.93</td>\n",
       "      <td>0.55</td>\n",
       "      <td>0.15</td>\n",
       "    </tr>\n",
       "    <tr>\n",
       "      <th>2</th>\n",
       "      <td>março - 2019</td>\n",
       "      <td>0.39</td>\n",
       "      <td>0.40</td>\n",
       "      <td>0.44</td>\n",
       "      <td>0.14</td>\n",
       "    </tr>\n",
       "    <tr>\n",
       "      <th>3</th>\n",
       "      <td>novembro - 2018</td>\n",
       "      <td>2.11</td>\n",
       "      <td>1.15</td>\n",
       "      <td>NaN</td>\n",
       "      <td>NaN</td>\n",
       "    </tr>\n",
       "  </tbody>\n",
       "</table>\n",
       "</div>"
      ],
      "text/plain": [
       "         DT_ACORDO  181 - 281  282 - 382  383 - 483  Maior que 484\n",
       "0     abril - 2019      14.43      12.21       5.92           2.34\n",
       "1     junho - 2019       1.47       0.93       0.55           0.15\n",
       "2     março - 2019       0.39       0.40       0.44           0.14\n",
       "3  novembro - 2018       2.11       1.15        NaN            NaN"
      ]
     },
     "execution_count": 37,
     "metadata": {},
     "output_type": "execute_result"
    }
   ],
   "source": [
    "#Criação de um novo DataFrame para passar os dados desejados\n",
    "df_adesao_mensal = pd.DataFrame()\n",
    "\n",
    "#Criação de variável de filtro\n",
    "condicao = (df_filtrado['RESPOSTA'] == 1)\n",
    "\n",
    "#Criação do cálculo da porcentagem para cada faixa\n",
    "df_adesao_mensal['181 - 281'] = round((df_filtrado[condicao & (df_filtrado['INTERVALOS_DEFINIDOS'] == '181 - 281')].groupby('DT_ACORDO')['RESPOSTA'].count())/df_filtrado.groupby('DT_ACORDO')['RESPOSTA'].count(),4)*100\n",
    "df_adesao_mensal['282 - 382'] = round((df_filtrado[condicao & (df_filtrado['INTERVALOS_DEFINIDOS'] == '282 - 382')].groupby('DT_ACORDO')['RESPOSTA'].count())/df_filtrado.groupby('DT_ACORDO')['RESPOSTA'].count(),4)*100\n",
    "df_adesao_mensal['383 - 483'] = round((df_filtrado[condicao & (df_filtrado['INTERVALOS_DEFINIDOS'] == '383 - 483')].groupby('DT_ACORDO')['RESPOSTA'].count())/df_filtrado.groupby('DT_ACORDO')['RESPOSTA'].count(),4)*100\n",
    "df_adesao_mensal['Maior que 484'] = round((df_filtrado[condicao & (df_filtrado['INTERVALOS_DEFINIDOS'] == 'Maior que 484')].groupby('DT_ACORDO')['RESPOSTA'].count())/df_filtrado.groupby('DT_ACORDO')['RESPOSTA'].count(),4)*100\n",
    "\n",
    "#Colocação do índice da tabela\n",
    "df_adesao_mensal.reset_index(inplace=True)\n",
    "\n",
    "#Chamada da tabela\n",
    "df_adesao_mensal"
   ]
  },
  {
   "cell_type": "markdown",
   "id": "e5e7e834",
   "metadata": {},
   "source": [
    "**Perceba que temos NaN a serem tratados. Para esse caso em específico, podemos trocar os NaN por 0, pois a indicativa de NaN é apenas a de inexistência de adesão mensal naquela daixa de dado.**"
   ]
  },
  {
   "cell_type": "code",
   "execution_count": 38,
   "id": "1b50db8b",
   "metadata": {
    "scrolled": true
   },
   "outputs": [
    {
     "data": {
      "text/html": [
       "<div>\n",
       "<style scoped>\n",
       "    .dataframe tbody tr th:only-of-type {\n",
       "        vertical-align: middle;\n",
       "    }\n",
       "\n",
       "    .dataframe tbody tr th {\n",
       "        vertical-align: top;\n",
       "    }\n",
       "\n",
       "    .dataframe thead th {\n",
       "        text-align: right;\n",
       "    }\n",
       "</style>\n",
       "<table border=\"1\" class=\"dataframe\">\n",
       "  <thead>\n",
       "    <tr style=\"text-align: right;\">\n",
       "      <th></th>\n",
       "      <th>DT_ACORDO</th>\n",
       "      <th>181 - 281</th>\n",
       "      <th>282 - 382</th>\n",
       "      <th>383 - 483</th>\n",
       "      <th>Maior que 484</th>\n",
       "    </tr>\n",
       "  </thead>\n",
       "  <tbody>\n",
       "    <tr>\n",
       "      <th>0</th>\n",
       "      <td>abril - 2019</td>\n",
       "      <td>14.43</td>\n",
       "      <td>12.21</td>\n",
       "      <td>5.92</td>\n",
       "      <td>2.34</td>\n",
       "    </tr>\n",
       "    <tr>\n",
       "      <th>1</th>\n",
       "      <td>junho - 2019</td>\n",
       "      <td>1.47</td>\n",
       "      <td>0.93</td>\n",
       "      <td>0.55</td>\n",
       "      <td>0.15</td>\n",
       "    </tr>\n",
       "    <tr>\n",
       "      <th>2</th>\n",
       "      <td>março - 2019</td>\n",
       "      <td>0.39</td>\n",
       "      <td>0.40</td>\n",
       "      <td>0.44</td>\n",
       "      <td>0.14</td>\n",
       "    </tr>\n",
       "    <tr>\n",
       "      <th>3</th>\n",
       "      <td>novembro - 2018</td>\n",
       "      <td>2.11</td>\n",
       "      <td>1.15</td>\n",
       "      <td>0.00</td>\n",
       "      <td>0.00</td>\n",
       "    </tr>\n",
       "  </tbody>\n",
       "</table>\n",
       "</div>"
      ],
      "text/plain": [
       "         DT_ACORDO  181 - 281  282 - 382  383 - 483  Maior que 484\n",
       "0     abril - 2019      14.43      12.21       5.92           2.34\n",
       "1     junho - 2019       1.47       0.93       0.55           0.15\n",
       "2     março - 2019       0.39       0.40       0.44           0.14\n",
       "3  novembro - 2018       2.11       1.15       0.00           0.00"
      ]
     },
     "execution_count": 38,
     "metadata": {},
     "output_type": "execute_result"
    }
   ],
   "source": [
    "df_adesao_mensal.fillna(0, inplace = True)\n",
    "df_adesao_mensal"
   ]
  },
  {
   "cell_type": "markdown",
   "id": "f3516db9-3958-429e-aa32-8c1a6e216651",
   "metadata": {},
   "source": [
    "**Agora, basta que somameos as porcentagens de cada faixa, criando uma nova coluna '% de Adesão Mensal' que corresponderá às porcentagens totais desejadas.**"
   ]
  },
  {
   "cell_type": "code",
   "execution_count": 39,
   "id": "51c913ee",
   "metadata": {},
   "outputs": [
    {
     "data": {
      "text/html": [
       "<div>\n",
       "<style scoped>\n",
       "    .dataframe tbody tr th:only-of-type {\n",
       "        vertical-align: middle;\n",
       "    }\n",
       "\n",
       "    .dataframe tbody tr th {\n",
       "        vertical-align: top;\n",
       "    }\n",
       "\n",
       "    .dataframe thead th {\n",
       "        text-align: right;\n",
       "    }\n",
       "</style>\n",
       "<table border=\"1\" class=\"dataframe\">\n",
       "  <thead>\n",
       "    <tr style=\"text-align: right;\">\n",
       "      <th></th>\n",
       "      <th>DT_ACORDO</th>\n",
       "      <th>181 - 281</th>\n",
       "      <th>282 - 382</th>\n",
       "      <th>383 - 483</th>\n",
       "      <th>Maior que 484</th>\n",
       "      <th>% de Adesão Mensal</th>\n",
       "    </tr>\n",
       "  </thead>\n",
       "  <tbody>\n",
       "    <tr>\n",
       "      <th>0</th>\n",
       "      <td>abril - 2019</td>\n",
       "      <td>14.43</td>\n",
       "      <td>12.21</td>\n",
       "      <td>5.92</td>\n",
       "      <td>2.34</td>\n",
       "      <td>34.90</td>\n",
       "    </tr>\n",
       "    <tr>\n",
       "      <th>1</th>\n",
       "      <td>junho - 2019</td>\n",
       "      <td>1.47</td>\n",
       "      <td>0.93</td>\n",
       "      <td>0.55</td>\n",
       "      <td>0.15</td>\n",
       "      <td>3.10</td>\n",
       "    </tr>\n",
       "    <tr>\n",
       "      <th>2</th>\n",
       "      <td>março - 2019</td>\n",
       "      <td>0.39</td>\n",
       "      <td>0.40</td>\n",
       "      <td>0.44</td>\n",
       "      <td>0.14</td>\n",
       "      <td>1.37</td>\n",
       "    </tr>\n",
       "    <tr>\n",
       "      <th>3</th>\n",
       "      <td>novembro - 2018</td>\n",
       "      <td>2.11</td>\n",
       "      <td>1.15</td>\n",
       "      <td>0.00</td>\n",
       "      <td>0.00</td>\n",
       "      <td>3.26</td>\n",
       "    </tr>\n",
       "  </tbody>\n",
       "</table>\n",
       "</div>"
      ],
      "text/plain": [
       "         DT_ACORDO  181 - 281  282 - 382  383 - 483  Maior que 484  \\\n",
       "0     abril - 2019      14.43      12.21       5.92           2.34   \n",
       "1     junho - 2019       1.47       0.93       0.55           0.15   \n",
       "2     março - 2019       0.39       0.40       0.44           0.14   \n",
       "3  novembro - 2018       2.11       1.15       0.00           0.00   \n",
       "\n",
       "   % de Adesão Mensal  \n",
       "0               34.90  \n",
       "1                3.10  \n",
       "2                1.37  \n",
       "3                3.26  "
      ]
     },
     "execution_count": 39,
     "metadata": {},
     "output_type": "execute_result"
    }
   ],
   "source": [
    "df_adesao_mensal['% de Adesão Mensal'] = df_adesao_mensal['181 - 281'] + df_adesao_mensal['282 - 382'] + df_adesao_mensal['383 - 483'] + df_adesao_mensal['Maior que 484']\n",
    "df_adesao_mensal"
   ]
  },
  {
   "cell_type": "markdown",
   "id": "6a40cc74",
   "metadata": {},
   "source": [
    "### 7. Representação gráfica"
   ]
  },
  {
   "cell_type": "code",
   "execution_count": 45,
   "id": "b4058394",
   "metadata": {},
   "outputs": [
    {
     "data": {
      "image/png": "[encoded data removed]",
      "text/plain": [
       "<Figure size 1008x360 with 1 Axes>"
      ]
     },
     "metadata": {
      "needs_background": "light"
     },
     "output_type": "display_data"
    }
   ],
   "source": [
    "# Gráfico\n",
    "#Difinição do tamanho do gráfico\n",
    "plt.figure(figsize = (14,5))\n",
    "\n",
    "#Definição dos dados dos eixos\n",
    "plt.bar(df_adesao_mensal['DT_ACORDO'], df_adesao_mensal['% de Adesão Mensal'], color = 'green')\n",
    "\n",
    "#Legenda de cada barra do eixo x\n",
    "plt.xticks(df_adesao_mensal['DT_ACORDO'])\n",
    "\n",
    "#Label para eixo y\n",
    "plt.ylabel('% de Adesão Mensal')\n",
    "\n",
    "#Label para eixo x\n",
    "plt.xlabel('Data de Vencimento')\n",
    "\n",
    "#Título do gráfico\n",
    "plt.title('Percentual de adesão mensal por faixa de atraso')\n",
    "\n",
    "plt.show()"
   ]
  },
  {
   "cell_type": "markdown",
   "id": "64b09cdc",
   "metadata": {},
   "source": [
    "### 2.2. Qual modelo preditivo você utilizaria para traçar uma estratégia objetivando o aumento da adesão dos acordos? (Descreva a técnica utilizada)\n",
    "***"
   ]
  },
  {
   "cell_type": "markdown",
   "id": "fe6bed00-85a0-40a2-a0b2-7c2bf9a38d59",
   "metadata": {},
   "source": [
    "Quando se trata de tomada de decisão a partir de dados já conhecidos (como é o caso do nosso cenário), devemos escolher um modelo preditivo de classificação. Pensando no que mais contribuiria para um plano estratégico que atinja o objetivo da questão, devemos escolher o modelo de classificação de **Árvore de Decisão**.\n",
    "\n",
    "\n",
    "**Técnica utiliza:** como o nome sugere, o algoritmo de árvore de decisão irá criar diversos pontos, chamados de \"nós\" da árvore, tal que cada um deles registrará um resultado de decisão a fim de seguir um novo caminho. Tais novos caminhos são chamados de \"ramos\". De maneira simples, podemos pensar na Árvore de Decisão como sucessivas perguntas que recebem respostas \"sim\" ou \"não\", até que todos os dados sejam usados e/ou todos os grupos de dados sejam criados. Assim, toda a árvore será construída, partindo de um ponto comum e podendo existir várias opções de caminhos diferentes a serem percorridos na árvore, em que cada um leva a um resultado.\n",
    "\n",
    "**Por que escolher essa técina:** é interessante escolhermos esse tipo de modelo, pois a medida que as decisões são tomadas, novos grupos de perfis de usuários são traçados, ajudando-nos a entender cada vez mais as possibilidades de um usuários aderir ou não os acordos, em quais faixas de atraso os usuários costumam pagar mais, dentre outros. \n",
    "\n",
    "**Como montar uma estratégia a partir desse modelo:** para pensarmos em uma estratégia, devemos ter em mente dois recursos bases: gráfico de faixa de atraso e árvore de decisão. De acordo com o gráfico percentual da questão 2.1, perceba que usuários que possuem menores faixas de atraso possuem maiores chances de pagarem.\n",
    "\n",
    "Pensando nisso, como uma estratégia de aumento de adesão, podemos criar um mecanismo de descontos decrescentes por faixa de atraso, ou seja, descontos de '181 - 281' > descontos de '282 - 382' > descontos de '383 - 483' > descontos de 'Maior que 484' incentivando os usuários a pagarem bem antes as parcelas em atraso."
   ]
  },
  {
   "cell_type": "markdown",
   "id": "bc724064",
   "metadata": {},
   "source": [
    "### 2.3. Quais indicadores e ferramentas você utilizaria para avaliar a performance/aderência desse modelo? (Descreva os indicadores utilizados)\n",
    "***"
   ]
  },
  {
   "cell_type": "markdown",
   "id": "6053c72c",
   "metadata": {},
   "source": [
    "Quando se trata de Machine Learning, devemos seguir algumas métricas de avaliação, sendo elas:\n",
    "\n",
    "**Matriz de Confusão:** a matriz de confusão deve indicar quantos exemplos existem em cada grupo, sendo eles: falso positivo (FP), falso negativo (FN), verdadeiro positivo (TP) e verdadeiro negativo (TN). É importante conseguir visualizar a contagem de cada grupo de forma absoluta e de forma percentual de classe real, já que o número de exemplos em cada classe pode variar, pois é a partir dessa contagem que constataremos se a classificação ocorreu corretamente ou erroneamente em cada classe, ajudando a entender se o modelo está favorecendo uma classe em detrimento da outra.\n",
    "\n",
    "**Precisão:** a precisão indica quantos exemplos dados como classificados em positivos são, de fato, positivos. Essa garantia trás mais segurança ao modelo de escolhido. Esta métrica é definida pela razão entre a quantidade de exemplos classificados corretamente como positivos e o total de exemplos classificados como positivos\n",
    "\n",
    "                                                Precisão = TP/(TP + FP)\n",
    "\n",
    "**Revocação:** no caso da rovocação, teremos uma ênfase contrária à precisão, ou seja, focará nos erros dados como falso negativos. Esta métrica é definida pela razão entre a quantidade de exemplos classificados corretamente como positivos e a quantidade de exemplos que são, de fato, positivos\n",
    "\n",
    "                                                Revocação = TP/(TP + FN)\n",
    "\n",
    "**Score F1:** um modelo que se utiliza do Score F1 é capaz de acertar as predições e de recuperar os exemplos de classe de interesse, ou seja, essa métrica tende a ser um resumo melhor da qualidade do modelo. Ela é definida pela média harmônica entre a precisão e a revocação\n",
    "                               Score F1 = 2*[(precisão*revocação)/(precisão+revocação)]\n",
    "\n",
    "Portanto, utilizaria tais métricas para garantir que o modelo escolhido é o mais eficiente."
   ]
  },
  {
   "cell_type": "code",
   "execution_count": null,
   "id": "e546800e-090e-4cad-97e9-77309dc908ee",
   "metadata": {},
   "outputs": [],
   "source": []
  },
  {
   "cell_type": "code",
   "execution_count": null,
   "id": "e51a2767",
   "metadata": {},
   "outputs": [],
   "source": []
  },
  {
   "cell_type": "code",
   "execution_count": null,
   "id": "368c9128",
   "metadata": {},
   "outputs": [],
   "source": []
  },
  {
   "cell_type": "code",
   "execution_count": null,
   "id": "5149723c",
   "metadata": {},
   "outputs": [],
   "source": []
  }
 ],
 "metadata": {
  "kernelspec": {
   "display_name": "Python 3",
   "language": "python",
   "name": "python3"
  },
  "language_info": {
   "codemirror_mode": {
    "name": "ipython",
    "version": 3
   },
   "file_extension": ".py",
   "mimetype": "text/x-python",
   "name": "python",
   "nbconvert_exporter": "python",
   "pygments_lexer": "ipython3",
   "version": "3.9.4"
  }
 },
 "nbformat": 4,
 "nbformat_minor": 5
}
