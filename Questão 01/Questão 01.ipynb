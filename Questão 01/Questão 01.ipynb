{
 "cells": [
  {
   "cell_type": "markdown",
   "id": "14707ab7",
   "metadata": {},
   "source": [
    "# Case FortBrasil\n",
    "***"
   ]
  },
  {
   "cell_type": "markdown",
   "id": "9d246a06",
   "metadata": {},
   "source": [
    "###  **Legenda:**\n",
    "- **ID_CONTA:** Identificador da conta;\n",
    "- **DT_VENCIMENTO:** Data vencimento da fatura;\n",
    "- **DS_ROLAGEM:** Indicador que define se o cliente pagou a fatura do mês anterior ou não. Se o valor for *FX0* quer dizer que o cliente pagou a fatura do mês anterior e se o valor for *FX1* quer dizer que o cliente *não* pagou a fatura do mês anterior;\n",
    "- **VL_FATURA:** Valor da Fatura atual."
   ]
  },
  {
   "cell_type": "markdown",
   "id": "154a132b",
   "metadata": {},
   "source": [
    "## Questão 01\n",
    "### 1.1. Qual o percentual de faturas emitidas por mês no qual os clientes não pagaram a fatura anterior? \n",
    "***"
   ]
  },
  {
   "cell_type": "markdown",
   "id": "b017ff00",
   "metadata": {},
   "source": [
    "### Importação das bibliotecas"
   ]
  },
  {
   "cell_type": "markdown",
   "id": "6b5b1471",
   "metadata": {},
   "source": [
    "Seleção de bibliotecas para manipulação de dados, criação de gráficos e tradução dos meses a serem usados do inglês para o português"
   ]
  },
  {
   "cell_type": "code",
   "execution_count": 140,
   "id": "1f17b5e3",
   "metadata": {},
   "outputs": [],
   "source": [
    "import pandas as pd\n",
    "import numpy as np \n",
    "from matplotlib import pyplot as plt\n",
    "pd.options.mode.chained_assignment = None\n",
    "import locale"
   ]
  },
  {
   "cell_type": "code",
   "execution_count": 141,
   "id": "a378d57c",
   "metadata": {},
   "outputs": [],
   "source": [
    "try:\n",
    "    locale.setlocale(locale.LC_ALL, 'pt_BR')\n",
    "except:\n",
    "    locale.setlocale(locale.LC_ALL, 'Portuguese_Brazil')"
   ]
  },
  {
   "cell_type": "markdown",
   "id": "e44c3846",
   "metadata": {},
   "source": [
    "### Leitura da base de dados"
   ]
  },
  {
   "cell_type": "code",
   "execution_count": 142,
   "id": "b782f353",
   "metadata": {
    "scrolled": true
   },
   "outputs": [
    {
     "data": {
      "text/html": [
       "<div>\n",
       "<style scoped>\n",
       "    .dataframe tbody tr th:only-of-type {\n",
       "        vertical-align: middle;\n",
       "    }\n",
       "\n",
       "    .dataframe tbody tr th {\n",
       "        vertical-align: top;\n",
       "    }\n",
       "\n",
       "    .dataframe thead th {\n",
       "        text-align: right;\n",
       "    }\n",
       "</style>\n",
       "<table border=\"1\" class=\"dataframe\">\n",
       "  <thead>\n",
       "    <tr style=\"text-align: right;\">\n",
       "      <th></th>\n",
       "      <th>ID_CONTA</th>\n",
       "      <th>DT_VENCIMENTO</th>\n",
       "      <th>DS_ROLAGEM</th>\n",
       "      <th>VL_FATURA</th>\n",
       "    </tr>\n",
       "  </thead>\n",
       "  <tbody>\n",
       "    <tr>\n",
       "      <th>0</th>\n",
       "      <td>402467</td>\n",
       "      <td>2019-01-01</td>\n",
       "      <td>FX0</td>\n",
       "      <td>210.00</td>\n",
       "    </tr>\n",
       "    <tr>\n",
       "      <th>1</th>\n",
       "      <td>403001</td>\n",
       "      <td>2019-01-01</td>\n",
       "      <td>FX1</td>\n",
       "      <td>1097.18</td>\n",
       "    </tr>\n",
       "    <tr>\n",
       "      <th>2</th>\n",
       "      <td>403499</td>\n",
       "      <td>2019-01-01</td>\n",
       "      <td>FX0</td>\n",
       "      <td>1209.88</td>\n",
       "    </tr>\n",
       "    <tr>\n",
       "      <th>3</th>\n",
       "      <td>403670</td>\n",
       "      <td>2019-01-01</td>\n",
       "      <td>FX0</td>\n",
       "      <td>667.40</td>\n",
       "    </tr>\n",
       "    <tr>\n",
       "      <th>4</th>\n",
       "      <td>404183</td>\n",
       "      <td>2019-01-01</td>\n",
       "      <td>FX1</td>\n",
       "      <td>1239.52</td>\n",
       "    </tr>\n",
       "  </tbody>\n",
       "</table>\n",
       "</div>"
      ],
      "text/plain": [
       "   ID_CONTA DT_VENCIMENTO DS_ROLAGEM  VL_FATURA\n",
       "0    402467    2019-01-01        FX0     210.00\n",
       "1    403001    2019-01-01        FX1    1097.18\n",
       "2    403499    2019-01-01        FX0    1209.88\n",
       "3    403670    2019-01-01        FX0     667.40\n",
       "4    404183    2019-01-01        FX1    1239.52"
      ]
     },
     "execution_count": 142,
     "metadata": {},
     "output_type": "execute_result"
    }
   ],
   "source": [
    "df_inicial = pd.read_csv('Questão 1 - Base.txt', sep = \"\\t\")\n",
    "df_inicial.head()"
   ]
  },
  {
   "cell_type": "markdown",
   "id": "e10c41f3",
   "metadata": {},
   "source": [
    "### Verificação de NaN"
   ]
  },
  {
   "cell_type": "markdown",
   "id": "b9180f6f",
   "metadata": {},
   "source": [
    "É sempre interessante que tratemos os NaN, pois eles interferem em nossa modelagem de dados. Para esse caso, não foi encontrado nenhum."
   ]
  },
  {
   "cell_type": "code",
   "execution_count": 143,
   "id": "eb4e288b",
   "metadata": {
    "scrolled": false
   },
   "outputs": [
    {
     "data": {
      "text/plain": [
       "ID_CONTA         0\n",
       "DT_VENCIMENTO    0\n",
       "DS_ROLAGEM       0\n",
       "VL_FATURA        0\n",
       "dtype: int64"
      ]
     },
     "execution_count": 143,
     "metadata": {},
     "output_type": "execute_result"
    }
   ],
   "source": [
    "# Sem registros de NaN nas colunas\n",
    "df_inicial.isna().sum()"
   ]
  },
  {
   "cell_type": "markdown",
   "id": "ff2cdcd9",
   "metadata": {},
   "source": [
    "## Solução\n",
    "### 1. Filtrar colunas importantes a serem usadas \n",
    "Após o tratamento dos dados, devemos selecionar a(s) informação(ões) útil(eis) para a manipulação dos mesmos. Assim, de acordo com o enunciado, precisamos apenas do mês da fatura emitida (DT_VENCIMENTO) e do código dos clientes que não pagaram a fatura anterior (DS_ROLAGEM)."
   ]
  },
  {
   "cell_type": "code",
   "execution_count": 144,
   "id": "8c83bffb",
   "metadata": {
    "scrolled": true
   },
   "outputs": [
    {
     "data": {
      "text/html": [
       "<div>\n",
       "<style scoped>\n",
       "    .dataframe tbody tr th:only-of-type {\n",
       "        vertical-align: middle;\n",
       "    }\n",
       "\n",
       "    .dataframe tbody tr th {\n",
       "        vertical-align: top;\n",
       "    }\n",
       "\n",
       "    .dataframe thead th {\n",
       "        text-align: right;\n",
       "    }\n",
       "</style>\n",
       "<table border=\"1\" class=\"dataframe\">\n",
       "  <thead>\n",
       "    <tr style=\"text-align: right;\">\n",
       "      <th></th>\n",
       "      <th>DT_VENCIMENTO</th>\n",
       "      <th>DS_ROLAGEM</th>\n",
       "    </tr>\n",
       "  </thead>\n",
       "  <tbody>\n",
       "    <tr>\n",
       "      <th>0</th>\n",
       "      <td>2019-01-01</td>\n",
       "      <td>FX0</td>\n",
       "    </tr>\n",
       "    <tr>\n",
       "      <th>1</th>\n",
       "      <td>2019-01-01</td>\n",
       "      <td>FX1</td>\n",
       "    </tr>\n",
       "    <tr>\n",
       "      <th>2</th>\n",
       "      <td>2019-01-01</td>\n",
       "      <td>FX0</td>\n",
       "    </tr>\n",
       "    <tr>\n",
       "      <th>3</th>\n",
       "      <td>2019-01-01</td>\n",
       "      <td>FX0</td>\n",
       "    </tr>\n",
       "    <tr>\n",
       "      <th>4</th>\n",
       "      <td>2019-01-01</td>\n",
       "      <td>FX1</td>\n",
       "    </tr>\n",
       "  </tbody>\n",
       "</table>\n",
       "</div>"
      ],
      "text/plain": [
       "  DT_VENCIMENTO DS_ROLAGEM\n",
       "0    2019-01-01        FX0\n",
       "1    2019-01-01        FX1\n",
       "2    2019-01-01        FX0\n",
       "3    2019-01-01        FX0\n",
       "4    2019-01-01        FX1"
      ]
     },
     "execution_count": 144,
     "metadata": {},
     "output_type": "execute_result"
    }
   ],
   "source": [
    "df_filtrado = df_inicial[['DT_VENCIMENTO','DS_ROLAGEM']]\n",
    "df_filtrado.head()"
   ]
  },
  {
   "cell_type": "markdown",
   "id": "af1e4085",
   "metadata": {},
   "source": [
    "### 2. Verificar tipo dos dados\n",
    "A fase de verificação dos tipos dos dados do dataset é importante, pois temos como objetivo o percentual de faturas emitidas **por mês**, ou seja, necessitaremos filtrar as datas presentes na coluna 'DT_VENCIMENTO' e isso só é possível quando temos o datetime como tipo de dado."
   ]
  },
  {
   "cell_type": "code",
   "execution_count": 145,
   "id": "d7989695",
   "metadata": {
    "scrolled": true
   },
   "outputs": [
    {
     "name": "stdout",
     "output_type": "stream",
     "text": [
      "<class 'pandas.core.frame.DataFrame'>\n",
      "RangeIndex: 2728249 entries, 0 to 2728248\n",
      "Data columns (total 2 columns):\n",
      " #   Column         Dtype \n",
      "---  ------         ----- \n",
      " 0   DT_VENCIMENTO  object\n",
      " 1   DS_ROLAGEM     object\n",
      "dtypes: object(2)\n",
      "memory usage: 41.6+ MB\n"
     ]
    }
   ],
   "source": [
    "df_filtrado.info()"
   ]
  },
  {
   "cell_type": "markdown",
   "id": "9a11f673",
   "metadata": {},
   "source": [
    "### 3. Transformar object em datetime\n",
    "Com base no tópico 2, constatamos que a coluna 'DT_VENCIMENTO' é do tipo *object*. Dessa maneira, devemos transformá-la em *datetime*."
   ]
  },
  {
   "cell_type": "code",
   "execution_count": 146,
   "id": "5eeead4e",
   "metadata": {
    "scrolled": true
   },
   "outputs": [
    {
     "name": "stdout",
     "output_type": "stream",
     "text": [
      "<class 'pandas.core.frame.DataFrame'>\n",
      "RangeIndex: 2728249 entries, 0 to 2728248\n",
      "Data columns (total 2 columns):\n",
      " #   Column         Dtype         \n",
      "---  ------         -----         \n",
      " 0   DT_VENCIMENTO  datetime64[ns]\n",
      " 1   DS_ROLAGEM     object        \n",
      "dtypes: datetime64[ns](1), object(1)\n",
      "memory usage: 41.6+ MB\n"
     ]
    }
   ],
   "source": [
    "df_filtrado['DT_VENCIMENTO'] = pd.to_datetime(df_filtrado['DT_VENCIMENTO'])\n",
    "\n",
    "#Transformação realizada\n",
    "df_filtrado.info()"
   ]
  },
  {
   "cell_type": "markdown",
   "id": "8269aba3",
   "metadata": {},
   "source": [
    "**A fim de tornar a visualização das datas mais fácil, devemos aplicar uma função lâmbda que ajusta o padrão data 'ano - mês - dia' para 'mês - ano'**"
   ]
  },
  {
   "cell_type": "code",
   "execution_count": 147,
   "id": "08e07736",
   "metadata": {
    "scrolled": false
   },
   "outputs": [
    {
     "data": {
      "text/html": [
       "<div>\n",
       "<style scoped>\n",
       "    .dataframe tbody tr th:only-of-type {\n",
       "        vertical-align: middle;\n",
       "    }\n",
       "\n",
       "    .dataframe tbody tr th {\n",
       "        vertical-align: top;\n",
       "    }\n",
       "\n",
       "    .dataframe thead th {\n",
       "        text-align: right;\n",
       "    }\n",
       "</style>\n",
       "<table border=\"1\" class=\"dataframe\">\n",
       "  <thead>\n",
       "    <tr style=\"text-align: right;\">\n",
       "      <th></th>\n",
       "      <th>DT_VENCIMENTO</th>\n",
       "      <th>DS_ROLAGEM</th>\n",
       "    </tr>\n",
       "  </thead>\n",
       "  <tbody>\n",
       "    <tr>\n",
       "      <th>0</th>\n",
       "      <td>janeiro - 2019</td>\n",
       "      <td>FX0</td>\n",
       "    </tr>\n",
       "    <tr>\n",
       "      <th>1</th>\n",
       "      <td>janeiro - 2019</td>\n",
       "      <td>FX1</td>\n",
       "    </tr>\n",
       "    <tr>\n",
       "      <th>2</th>\n",
       "      <td>janeiro - 2019</td>\n",
       "      <td>FX0</td>\n",
       "    </tr>\n",
       "    <tr>\n",
       "      <th>3</th>\n",
       "      <td>janeiro - 2019</td>\n",
       "      <td>FX0</td>\n",
       "    </tr>\n",
       "    <tr>\n",
       "      <th>4</th>\n",
       "      <td>janeiro - 2019</td>\n",
       "      <td>FX1</td>\n",
       "    </tr>\n",
       "  </tbody>\n",
       "</table>\n",
       "</div>"
      ],
      "text/plain": [
       "    DT_VENCIMENTO DS_ROLAGEM\n",
       "0  janeiro - 2019        FX0\n",
       "1  janeiro - 2019        FX1\n",
       "2  janeiro - 2019        FX0\n",
       "3  janeiro - 2019        FX0\n",
       "4  janeiro - 2019        FX1"
      ]
     },
     "execution_count": 147,
     "metadata": {},
     "output_type": "execute_result"
    }
   ],
   "source": [
    "df_filtrado['DT_VENCIMENTO'] = df_filtrado['DT_VENCIMENTO'].apply(lambda x: x.strftime(\"%B - %Y\"))\n",
    "df_filtrado.head()"
   ]
  },
  {
   "cell_type": "markdown",
   "id": "0ab3e2a9",
   "metadata": {},
   "source": [
    "### 4. Criar coluna para contagem\n",
    "Assim como no desenvolvimento, usaremos um contador. Para essa situação, o contador será uma coluna *'CONTAGEM'* preenchidas com 1's. A ideia por trás dessa solução é facilitar a contagem dos *FX0 - pagamento da fatura realizado do mês anterior* e *FX1 - pagamento da fatura não realizado do mês anterior* para cada mês."
   ]
  },
  {
   "cell_type": "code",
   "execution_count": 148,
   "id": "810e6e56",
   "metadata": {
    "scrolled": true
   },
   "outputs": [
    {
     "data": {
      "text/html": [
       "<div>\n",
       "<style scoped>\n",
       "    .dataframe tbody tr th:only-of-type {\n",
       "        vertical-align: middle;\n",
       "    }\n",
       "\n",
       "    .dataframe tbody tr th {\n",
       "        vertical-align: top;\n",
       "    }\n",
       "\n",
       "    .dataframe thead th {\n",
       "        text-align: right;\n",
       "    }\n",
       "</style>\n",
       "<table border=\"1\" class=\"dataframe\">\n",
       "  <thead>\n",
       "    <tr style=\"text-align: right;\">\n",
       "      <th></th>\n",
       "      <th>DT_VENCIMENTO</th>\n",
       "      <th>DS_ROLAGEM</th>\n",
       "      <th>CONTAGEM</th>\n",
       "    </tr>\n",
       "  </thead>\n",
       "  <tbody>\n",
       "    <tr>\n",
       "      <th>0</th>\n",
       "      <td>janeiro - 2019</td>\n",
       "      <td>FX0</td>\n",
       "      <td>1</td>\n",
       "    </tr>\n",
       "    <tr>\n",
       "      <th>1</th>\n",
       "      <td>janeiro - 2019</td>\n",
       "      <td>FX1</td>\n",
       "      <td>1</td>\n",
       "    </tr>\n",
       "    <tr>\n",
       "      <th>2</th>\n",
       "      <td>janeiro - 2019</td>\n",
       "      <td>FX0</td>\n",
       "      <td>1</td>\n",
       "    </tr>\n",
       "    <tr>\n",
       "      <th>3</th>\n",
       "      <td>janeiro - 2019</td>\n",
       "      <td>FX0</td>\n",
       "      <td>1</td>\n",
       "    </tr>\n",
       "    <tr>\n",
       "      <th>4</th>\n",
       "      <td>janeiro - 2019</td>\n",
       "      <td>FX1</td>\n",
       "      <td>1</td>\n",
       "    </tr>\n",
       "  </tbody>\n",
       "</table>\n",
       "</div>"
      ],
      "text/plain": [
       "    DT_VENCIMENTO DS_ROLAGEM  CONTAGEM\n",
       "0  janeiro - 2019        FX0         1\n",
       "1  janeiro - 2019        FX1         1\n",
       "2  janeiro - 2019        FX0         1\n",
       "3  janeiro - 2019        FX0         1\n",
       "4  janeiro - 2019        FX1         1"
      ]
     },
     "execution_count": 148,
     "metadata": {},
     "output_type": "execute_result"
    }
   ],
   "source": [
    "df_filtrado['CONTAGEM'] = 1\n",
    "df_filtrado.head()"
   ]
  },
  {
   "cell_type": "markdown",
   "id": "d0b8df95",
   "metadata": {},
   "source": [
    "### 5. Realizar a soma das faturas pagas e não pagas anteriormente\n",
    "Nesse momento, devemos usar o 'groupby' para agrupar a soma dos dados baseada nos critérios de data ('DT_VENCIMENTO') e de pagamento ('DS_ROLAGEM'). Essa soma nos auxiliará a achar o percentual da faturas emitidas por mês no qual os clientes não pagaram a fatura anterior."
   ]
  },
  {
   "cell_type": "code",
   "execution_count": 149,
   "id": "fed4a6d2",
   "metadata": {
    "scrolled": false
   },
   "outputs": [
    {
     "data": {
      "text/plain": [
       "DT_VENCIMENTO     DS_ROLAGEM\n",
       "abril - 2019      FX0           276950\n",
       "                  FX1            25380\n",
       "agosto - 2019     FX0           288331\n",
       "                  FX1            28736\n",
       "fevereiro - 2019  FX0           285921\n",
       "                  FX1            27928\n",
       "janeiro - 2019    FX0           290548\n",
       "                  FX1            22835\n",
       "julho - 2019      FX0           281005\n",
       "                  FX1            29889\n",
       "junho - 2019      FX0           278389\n",
       "                  FX1            25977\n",
       "maio - 2019       FX0           271544\n",
       "                  FX1            30321\n",
       "março - 2019      FX0           273886\n",
       "                  FX1            33432\n",
       "setembro - 2019   FX0           235222\n",
       "                  FX1            21955\n",
       "Name: CONTAGEM, dtype: int64"
      ]
     },
     "execution_count": 149,
     "metadata": {},
     "output_type": "execute_result"
    }
   ],
   "source": [
    "df_agrupamento = df_filtrado.groupby(['DT_VENCIMENTO','DS_ROLAGEM'])['CONTAGEM'].sum()\n",
    "df_agrupamento"
   ]
  },
  {
   "cell_type": "markdown",
   "id": "8aa15a4b",
   "metadata": {},
   "source": [
    "### 6. Porcentagem:\n",
    "Por fim, chegamos ao resultado aguardado da questão."
   ]
  },
  {
   "cell_type": "code",
   "execution_count": 150,
   "id": "aafe7a2d",
   "metadata": {
    "scrolled": true
   },
   "outputs": [
    {
     "data": {
      "text/html": [
       "<div>\n",
       "<style scoped>\n",
       "    .dataframe tbody tr th:only-of-type {\n",
       "        vertical-align: middle;\n",
       "    }\n",
       "\n",
       "    .dataframe tbody tr th {\n",
       "        vertical-align: top;\n",
       "    }\n",
       "\n",
       "    .dataframe thead th {\n",
       "        text-align: right;\n",
       "    }\n",
       "</style>\n",
       "<table border=\"1\" class=\"dataframe\">\n",
       "  <thead>\n",
       "    <tr style=\"text-align: right;\">\n",
       "      <th></th>\n",
       "      <th>DT_VENCIMENTO</th>\n",
       "      <th>% Faturas Não Pagas</th>\n",
       "    </tr>\n",
       "  </thead>\n",
       "  <tbody>\n",
       "    <tr>\n",
       "      <th>0</th>\n",
       "      <td>abril - 2019</td>\n",
       "      <td>8.39</td>\n",
       "    </tr>\n",
       "    <tr>\n",
       "      <th>1</th>\n",
       "      <td>agosto - 2019</td>\n",
       "      <td>9.06</td>\n",
       "    </tr>\n",
       "    <tr>\n",
       "      <th>2</th>\n",
       "      <td>fevereiro - 2019</td>\n",
       "      <td>8.90</td>\n",
       "    </tr>\n",
       "    <tr>\n",
       "      <th>3</th>\n",
       "      <td>janeiro - 2019</td>\n",
       "      <td>7.29</td>\n",
       "    </tr>\n",
       "    <tr>\n",
       "      <th>4</th>\n",
       "      <td>julho - 2019</td>\n",
       "      <td>9.61</td>\n",
       "    </tr>\n",
       "    <tr>\n",
       "      <th>5</th>\n",
       "      <td>junho - 2019</td>\n",
       "      <td>8.53</td>\n",
       "    </tr>\n",
       "    <tr>\n",
       "      <th>6</th>\n",
       "      <td>maio - 2019</td>\n",
       "      <td>10.04</td>\n",
       "    </tr>\n",
       "    <tr>\n",
       "      <th>7</th>\n",
       "      <td>março - 2019</td>\n",
       "      <td>10.88</td>\n",
       "    </tr>\n",
       "    <tr>\n",
       "      <th>8</th>\n",
       "      <td>setembro - 2019</td>\n",
       "      <td>8.54</td>\n",
       "    </tr>\n",
       "  </tbody>\n",
       "</table>\n",
       "</div>"
      ],
      "text/plain": [
       "      DT_VENCIMENTO  % Faturas Não Pagas\n",
       "0      abril - 2019                 8.39\n",
       "1     agosto - 2019                 9.06\n",
       "2  fevereiro - 2019                 8.90\n",
       "3    janeiro - 2019                 7.29\n",
       "4      julho - 2019                 9.61\n",
       "5      junho - 2019                 8.53\n",
       "6       maio - 2019                10.04\n",
       "7      março - 2019                10.88\n",
       "8   setembro - 2019                 8.54"
      ]
     },
     "execution_count": 150,
     "metadata": {},
     "output_type": "execute_result"
    }
   ],
   "source": [
    "#Criação de um novo DataFrame para passar os dados desejados\n",
    "df_percentual_faturas_emitidas = pd.DataFrame()\n",
    "\n",
    "#Criação do cálculo da porcentagem para cada mês\n",
    "df_percentual_faturas_emitidas['% Faturas Não Pagas'] = round((df_filtrado[df_filtrado['DS_ROLAGEM'] == 'FX1'].groupby('DT_VENCIMENTO')['DS_ROLAGEM'].count())/df_filtrado.groupby('DT_VENCIMENTO')['DS_ROLAGEM'].count(),4)*100\n",
    "\n",
    "#Colocação do índice da tabela\n",
    "df_percentual_faturas_emitidas.reset_index(inplace=True)\n",
    "\n",
    "#Chamada da tabela\n",
    "df_percentual_faturas_emitidas"
   ]
  },
  {
   "cell_type": "markdown",
   "id": "22b8608a",
   "metadata": {},
   "source": [
    "### 7. Representação gráfica:"
   ]
  },
  {
   "cell_type": "code",
   "execution_count": 152,
   "id": "da452b78",
   "metadata": {
    "scrolled": false
   },
   "outputs": [
    {
     "data": {
      "image/png": "[encoded data removed]",
      "text/plain": [
       "<Figure size 1008x360 with 1 Axes>"
      ]
     },
     "metadata": {
      "needs_background": "light"
     },
     "output_type": "display_data"
    }
   ],
   "source": [
    "# Gráfico\n",
    "#Difinição do tamanho do gráfico\n",
    "plt.figure(figsize = (14,5))\n",
    "\n",
    "#Definição dos dados dos eixos\n",
    "plt.bar(df_percentual_faturas_emitidas['DT_VENCIMENTO'], df_percentual_faturas_emitidas['% Faturas Não Pagas'], color = 'green')\n",
    "\n",
    "#Legenda de cada barra do eixo x\n",
    "plt.xticks(df_percentual_faturas_emitidas['DT_VENCIMENTO'])\n",
    "\n",
    "#Label para eixo y\n",
    "plt.ylabel('Percentual FX1')\n",
    "\n",
    "#Label para eixo x\n",
    "plt.xlabel('Data de Vencimento')\n",
    "\n",
    "#Título do gráfico\n",
    "plt.title('Percentual de faturas emitidas por mês quando os clientes não pagaram a fatura anterior')\n",
    "\n",
    "plt.show()"
   ]
  },
  {
   "cell_type": "markdown",
   "id": "b95a6138",
   "metadata": {},
   "source": [
    "### 1.2. Tendo como referência todos os clientes que tiveram fatura emitida no mês de setembro, gere uma base para esses clientes com os seguintes calculados:\n",
    "- Total de faturas emitidas nos últimos 6 meses (sem contar com a fatura de setembro);\n",
    "- O valor médio de fatura nos últimos 6 meses (sem contar com a fatura de setembro);\n",
    "- Quantidade de vezes que ele ficou sem pagar a fatura anterior nos últimos 6 meses (sem contar com a fatura de setembro). \n",
    "***"
   ]
  },
  {
   "cell_type": "markdown",
   "id": "ed00b39d",
   "metadata": {},
   "source": [
    "### Importação das bibliotecas"
   ]
  },
  {
   "cell_type": "markdown",
   "id": "64cf5fcd",
   "metadata": {},
   "source": [
    "Seleção de bibliotecas para manipulação de dados, criação de gráficos e tradução dos meses a serem usados do inglês para o português"
   ]
  },
  {
   "cell_type": "code",
   "execution_count": 95,
   "id": "0ad34706",
   "metadata": {},
   "outputs": [],
   "source": [
    "import pandas as pd\n",
    "from matplotlib import pyplot as plt\n",
    "pd.options.mode.chained_assignment = None\n",
    "import locale"
   ]
  },
  {
   "cell_type": "code",
   "execution_count": 96,
   "id": "64610274",
   "metadata": {},
   "outputs": [],
   "source": [
    "try:\n",
    "    locale.setlocale(locale.LC_ALL, 'pt_BR')\n",
    "except:\n",
    "    locale.setlocale(locale.LC_ALL, 'Portuguese_Brazil')"
   ]
  },
  {
   "cell_type": "markdown",
   "id": "0e0af25a",
   "metadata": {},
   "source": [
    "### Leitura da base de dados"
   ]
  },
  {
   "cell_type": "code",
   "execution_count": 97,
   "id": "8f372869",
   "metadata": {
    "scrolled": false
   },
   "outputs": [
    {
     "data": {
      "text/html": [
       "<div>\n",
       "<style scoped>\n",
       "    .dataframe tbody tr th:only-of-type {\n",
       "        vertical-align: middle;\n",
       "    }\n",
       "\n",
       "    .dataframe tbody tr th {\n",
       "        vertical-align: top;\n",
       "    }\n",
       "\n",
       "    .dataframe thead th {\n",
       "        text-align: right;\n",
       "    }\n",
       "</style>\n",
       "<table border=\"1\" class=\"dataframe\">\n",
       "  <thead>\n",
       "    <tr style=\"text-align: right;\">\n",
       "      <th></th>\n",
       "      <th>ID_CONTA</th>\n",
       "      <th>DT_VENCIMENTO</th>\n",
       "      <th>DS_ROLAGEM</th>\n",
       "      <th>VL_FATURA</th>\n",
       "    </tr>\n",
       "  </thead>\n",
       "  <tbody>\n",
       "    <tr>\n",
       "      <th>0</th>\n",
       "      <td>402467</td>\n",
       "      <td>2019-01-01</td>\n",
       "      <td>FX0</td>\n",
       "      <td>210.00</td>\n",
       "    </tr>\n",
       "    <tr>\n",
       "      <th>1</th>\n",
       "      <td>403001</td>\n",
       "      <td>2019-01-01</td>\n",
       "      <td>FX1</td>\n",
       "      <td>1097.18</td>\n",
       "    </tr>\n",
       "    <tr>\n",
       "      <th>2</th>\n",
       "      <td>403499</td>\n",
       "      <td>2019-01-01</td>\n",
       "      <td>FX0</td>\n",
       "      <td>1209.88</td>\n",
       "    </tr>\n",
       "    <tr>\n",
       "      <th>3</th>\n",
       "      <td>403670</td>\n",
       "      <td>2019-01-01</td>\n",
       "      <td>FX0</td>\n",
       "      <td>667.40</td>\n",
       "    </tr>\n",
       "    <tr>\n",
       "      <th>4</th>\n",
       "      <td>404183</td>\n",
       "      <td>2019-01-01</td>\n",
       "      <td>FX1</td>\n",
       "      <td>1239.52</td>\n",
       "    </tr>\n",
       "  </tbody>\n",
       "</table>\n",
       "</div>"
      ],
      "text/plain": [
       "   ID_CONTA DT_VENCIMENTO DS_ROLAGEM  VL_FATURA\n",
       "0    402467    2019-01-01        FX0     210.00\n",
       "1    403001    2019-01-01        FX1    1097.18\n",
       "2    403499    2019-01-01        FX0    1209.88\n",
       "3    403670    2019-01-01        FX0     667.40\n",
       "4    404183    2019-01-01        FX1    1239.52"
      ]
     },
     "execution_count": 97,
     "metadata": {},
     "output_type": "execute_result"
    }
   ],
   "source": [
    "df_inicial = pd.read_csv('Questão 1 - Base.txt', sep = \"\\t\")\n",
    "df_inicial.head()"
   ]
  },
  {
   "cell_type": "markdown",
   "id": "89171ed8",
   "metadata": {},
   "source": [
    "## Solução\n",
    "### 1. Filtrar colunas importantes a serem usadas\n",
    "Para essa solução, usaremos todas as colunas presentes no dataset, logo, não faremos uma filtragem de coluna\n",
    "Para o primeiro tópico devemo selecionar o intervalo de Março - Agosto"
   ]
  },
  {
   "cell_type": "code",
   "execution_count": 98,
   "id": "b867784f",
   "metadata": {},
   "outputs": [
    {
     "data": {
      "text/html": [
       "<div>\n",
       "<style scoped>\n",
       "    .dataframe tbody tr th:only-of-type {\n",
       "        vertical-align: middle;\n",
       "    }\n",
       "\n",
       "    .dataframe tbody tr th {\n",
       "        vertical-align: top;\n",
       "    }\n",
       "\n",
       "    .dataframe thead th {\n",
       "        text-align: right;\n",
       "    }\n",
       "</style>\n",
       "<table border=\"1\" class=\"dataframe\">\n",
       "  <thead>\n",
       "    <tr style=\"text-align: right;\">\n",
       "      <th></th>\n",
       "      <th>ID_CONTA</th>\n",
       "      <th>DT_VENCIMENTO</th>\n",
       "      <th>DS_ROLAGEM</th>\n",
       "      <th>VL_FATURA</th>\n",
       "    </tr>\n",
       "  </thead>\n",
       "  <tbody>\n",
       "    <tr>\n",
       "      <th>0</th>\n",
       "      <td>402467</td>\n",
       "      <td>2019-01-01</td>\n",
       "      <td>FX0</td>\n",
       "      <td>210.00</td>\n",
       "    </tr>\n",
       "    <tr>\n",
       "      <th>1</th>\n",
       "      <td>403001</td>\n",
       "      <td>2019-01-01</td>\n",
       "      <td>FX1</td>\n",
       "      <td>1097.18</td>\n",
       "    </tr>\n",
       "    <tr>\n",
       "      <th>2</th>\n",
       "      <td>403499</td>\n",
       "      <td>2019-01-01</td>\n",
       "      <td>FX0</td>\n",
       "      <td>1209.88</td>\n",
       "    </tr>\n",
       "    <tr>\n",
       "      <th>3</th>\n",
       "      <td>403670</td>\n",
       "      <td>2019-01-01</td>\n",
       "      <td>FX0</td>\n",
       "      <td>667.40</td>\n",
       "    </tr>\n",
       "    <tr>\n",
       "      <th>4</th>\n",
       "      <td>404183</td>\n",
       "      <td>2019-01-01</td>\n",
       "      <td>FX1</td>\n",
       "      <td>1239.52</td>\n",
       "    </tr>\n",
       "  </tbody>\n",
       "</table>\n",
       "</div>"
      ],
      "text/plain": [
       "   ID_CONTA DT_VENCIMENTO DS_ROLAGEM  VL_FATURA\n",
       "0    402467    2019-01-01        FX0     210.00\n",
       "1    403001    2019-01-01        FX1    1097.18\n",
       "2    403499    2019-01-01        FX0    1209.88\n",
       "3    403670    2019-01-01        FX0     667.40\n",
       "4    404183    2019-01-01        FX1    1239.52"
      ]
     },
     "execution_count": 98,
     "metadata": {},
     "output_type": "execute_result"
    }
   ],
   "source": [
    "df_inicial.head()"
   ]
  },
  {
   "cell_type": "markdown",
   "id": "12db052e",
   "metadata": {},
   "source": [
    "### 2. Eliminar mês de setembro"
   ]
  },
  {
   "cell_type": "code",
   "execution_count": 99,
   "id": "a6063e47",
   "metadata": {
    "scrolled": true
   },
   "outputs": [
    {
     "data": {
      "text/html": [
       "<div>\n",
       "<style scoped>\n",
       "    .dataframe tbody tr th:only-of-type {\n",
       "        vertical-align: middle;\n",
       "    }\n",
       "\n",
       "    .dataframe tbody tr th {\n",
       "        vertical-align: top;\n",
       "    }\n",
       "\n",
       "    .dataframe thead th {\n",
       "        text-align: right;\n",
       "    }\n",
       "</style>\n",
       "<table border=\"1\" class=\"dataframe\">\n",
       "  <thead>\n",
       "    <tr style=\"text-align: right;\">\n",
       "      <th></th>\n",
       "      <th>ID_CONTA</th>\n",
       "      <th>DT_VENCIMENTO</th>\n",
       "      <th>DS_ROLAGEM</th>\n",
       "      <th>VL_FATURA</th>\n",
       "      <th>MÊS</th>\n",
       "    </tr>\n",
       "  </thead>\n",
       "  <tbody>\n",
       "    <tr>\n",
       "      <th>0</th>\n",
       "      <td>402467</td>\n",
       "      <td>2019-01-01</td>\n",
       "      <td>FX0</td>\n",
       "      <td>210.00</td>\n",
       "      <td>1</td>\n",
       "    </tr>\n",
       "    <tr>\n",
       "      <th>1</th>\n",
       "      <td>403001</td>\n",
       "      <td>2019-01-01</td>\n",
       "      <td>FX1</td>\n",
       "      <td>1097.18</td>\n",
       "      <td>1</td>\n",
       "    </tr>\n",
       "    <tr>\n",
       "      <th>2</th>\n",
       "      <td>403499</td>\n",
       "      <td>2019-01-01</td>\n",
       "      <td>FX0</td>\n",
       "      <td>1209.88</td>\n",
       "      <td>1</td>\n",
       "    </tr>\n",
       "    <tr>\n",
       "      <th>3</th>\n",
       "      <td>403670</td>\n",
       "      <td>2019-01-01</td>\n",
       "      <td>FX0</td>\n",
       "      <td>667.40</td>\n",
       "      <td>1</td>\n",
       "    </tr>\n",
       "    <tr>\n",
       "      <th>4</th>\n",
       "      <td>404183</td>\n",
       "      <td>2019-01-01</td>\n",
       "      <td>FX1</td>\n",
       "      <td>1239.52</td>\n",
       "      <td>1</td>\n",
       "    </tr>\n",
       "  </tbody>\n",
       "</table>\n",
       "</div>"
      ],
      "text/plain": [
       "   ID_CONTA DT_VENCIMENTO DS_ROLAGEM  VL_FATURA  MÊS\n",
       "0    402467    2019-01-01        FX0     210.00    1\n",
       "1    403001    2019-01-01        FX1    1097.18    1\n",
       "2    403499    2019-01-01        FX0    1209.88    1\n",
       "3    403670    2019-01-01        FX0     667.40    1\n",
       "4    404183    2019-01-01        FX1    1239.52    1"
      ]
     },
     "execution_count": 99,
     "metadata": {},
     "output_type": "execute_result"
    }
   ],
   "source": [
    "df_inicial['MÊS'] = (pd.to_datetime(df_inicial['DT_VENCIMENTO'])).dt.month\n",
    "df_inicial.head()"
   ]
  },
  {
   "cell_type": "code",
   "execution_count": 100,
   "id": "69c47ddc",
   "metadata": {},
   "outputs": [
    {
     "data": {
      "text/html": [
       "<div>\n",
       "<style scoped>\n",
       "    .dataframe tbody tr th:only-of-type {\n",
       "        vertical-align: middle;\n",
       "    }\n",
       "\n",
       "    .dataframe tbody tr th {\n",
       "        vertical-align: top;\n",
       "    }\n",
       "\n",
       "    .dataframe thead th {\n",
       "        text-align: right;\n",
       "    }\n",
       "</style>\n",
       "<table border=\"1\" class=\"dataframe\">\n",
       "  <thead>\n",
       "    <tr style=\"text-align: right;\">\n",
       "      <th></th>\n",
       "      <th>ID_CONTA</th>\n",
       "      <th>DT_VENCIMENTO</th>\n",
       "      <th>DS_ROLAGEM</th>\n",
       "    </tr>\n",
       "  </thead>\n",
       "  <tbody>\n",
       "    <tr>\n",
       "      <th>0</th>\n",
       "      <td>99416</td>\n",
       "      <td>2019-09-01</td>\n",
       "      <td>FX0</td>\n",
       "    </tr>\n",
       "    <tr>\n",
       "      <th>1</th>\n",
       "      <td>52706</td>\n",
       "      <td>2019-09-01</td>\n",
       "      <td>FX0</td>\n",
       "    </tr>\n",
       "    <tr>\n",
       "      <th>2</th>\n",
       "      <td>1024221</td>\n",
       "      <td>2019-09-01</td>\n",
       "      <td>FX0</td>\n",
       "    </tr>\n",
       "    <tr>\n",
       "      <th>3</th>\n",
       "      <td>1024238</td>\n",
       "      <td>2019-09-01</td>\n",
       "      <td>FX0</td>\n",
       "    </tr>\n",
       "    <tr>\n",
       "      <th>4</th>\n",
       "      <td>1024293</td>\n",
       "      <td>2019-09-01</td>\n",
       "      <td>FX0</td>\n",
       "    </tr>\n",
       "  </tbody>\n",
       "</table>\n",
       "</div>"
      ],
      "text/plain": [
       "   ID_CONTA DT_VENCIMENTO DS_ROLAGEM\n",
       "0     99416    2019-09-01        FX0\n",
       "1     52706    2019-09-01        FX0\n",
       "2   1024221    2019-09-01        FX0\n",
       "3   1024238    2019-09-01        FX0\n",
       "4   1024293    2019-09-01        FX0"
      ]
     },
     "execution_count": 100,
     "metadata": {},
     "output_type": "execute_result"
    }
   ],
   "source": [
    "df_setembro = df_inicial[df_inicial['MÊS'] == 9]\n",
    "df_setembro.drop(['VL_FATURA','MÊS'],axis=1,inplace=True)\n",
    "df_setembro.reset_index(drop=True,inplace=True)\n",
    "df_setembro.head()"
   ]
  },
  {
   "cell_type": "markdown",
   "id": "222a4271",
   "metadata": {},
   "source": [
    "### 3. Considerar faturas de março até agosto (6 meses)"
   ]
  },
  {
   "cell_type": "code",
   "execution_count": 101,
   "id": "0532869c",
   "metadata": {
    "scrolled": true
   },
   "outputs": [],
   "source": [
    "# Filtrar meses\n",
    "df_filtro_mes = ((df_inicial['DT_VENCIMENTO'] >= '2019-03-01') & (df_inicial['DT_VENCIMENTO'] < '2019-09-01'))"
   ]
  },
  {
   "cell_type": "code",
   "execution_count": 102,
   "id": "d194155e",
   "metadata": {},
   "outputs": [
    {
     "data": {
      "text/html": [
       "<div>\n",
       "<style scoped>\n",
       "    .dataframe tbody tr th:only-of-type {\n",
       "        vertical-align: middle;\n",
       "    }\n",
       "\n",
       "    .dataframe tbody tr th {\n",
       "        vertical-align: top;\n",
       "    }\n",
       "\n",
       "    .dataframe thead th {\n",
       "        text-align: right;\n",
       "    }\n",
       "</style>\n",
       "<table border=\"1\" class=\"dataframe\">\n",
       "  <thead>\n",
       "    <tr style=\"text-align: right;\">\n",
       "      <th></th>\n",
       "      <th>ID_CONTA</th>\n",
       "      <th>DT_VENCIMENTO</th>\n",
       "      <th>DS_ROLAGEM</th>\n",
       "      <th>VL_FATURA</th>\n",
       "      <th>MÊS</th>\n",
       "    </tr>\n",
       "  </thead>\n",
       "  <tbody>\n",
       "    <tr>\n",
       "      <th>464874</th>\n",
       "      <td>1624902</td>\n",
       "      <td>2019-08-08</td>\n",
       "      <td>FX0</td>\n",
       "      <td>226.62</td>\n",
       "      <td>8</td>\n",
       "    </tr>\n",
       "    <tr>\n",
       "      <th>464875</th>\n",
       "      <td>1624908</td>\n",
       "      <td>2019-08-08</td>\n",
       "      <td>FX0</td>\n",
       "      <td>921.09</td>\n",
       "      <td>8</td>\n",
       "    </tr>\n",
       "    <tr>\n",
       "      <th>464876</th>\n",
       "      <td>1624916</td>\n",
       "      <td>2019-08-08</td>\n",
       "      <td>FX0</td>\n",
       "      <td>1456.75</td>\n",
       "      <td>8</td>\n",
       "    </tr>\n",
       "    <tr>\n",
       "      <th>464877</th>\n",
       "      <td>1624951</td>\n",
       "      <td>2019-08-08</td>\n",
       "      <td>FX0</td>\n",
       "      <td>70.11</td>\n",
       "      <td>8</td>\n",
       "    </tr>\n",
       "    <tr>\n",
       "      <th>464878</th>\n",
       "      <td>1624975</td>\n",
       "      <td>2019-08-08</td>\n",
       "      <td>FX0</td>\n",
       "      <td>49.05</td>\n",
       "      <td>8</td>\n",
       "    </tr>\n",
       "  </tbody>\n",
       "</table>\n",
       "</div>"
      ],
      "text/plain": [
       "        ID_CONTA DT_VENCIMENTO DS_ROLAGEM  VL_FATURA  MÊS\n",
       "464874   1624902    2019-08-08        FX0     226.62    8\n",
       "464875   1624908    2019-08-08        FX0     921.09    8\n",
       "464876   1624916    2019-08-08        FX0    1456.75    8\n",
       "464877   1624951    2019-08-08        FX0      70.11    8\n",
       "464878   1624975    2019-08-08        FX0      49.05    8"
      ]
     },
     "execution_count": 102,
     "metadata": {},
     "output_type": "execute_result"
    }
   ],
   "source": [
    "df_seis_meses = df_inicial[df_filtro_mes]\n",
    "df_seis_meses.head()"
   ]
  },
  {
   "cell_type": "markdown",
   "id": "a4cc5ffb",
   "metadata": {},
   "source": [
    "### 4. Transformar a coluna 'DS_ROLAGEM' em contador"
   ]
  },
  {
   "cell_type": "code",
   "execution_count": 103,
   "id": "b668e668",
   "metadata": {},
   "outputs": [
    {
     "data": {
      "text/html": [
       "<div>\n",
       "<style scoped>\n",
       "    .dataframe tbody tr th:only-of-type {\n",
       "        vertical-align: middle;\n",
       "    }\n",
       "\n",
       "    .dataframe tbody tr th {\n",
       "        vertical-align: top;\n",
       "    }\n",
       "\n",
       "    .dataframe thead th {\n",
       "        text-align: right;\n",
       "    }\n",
       "</style>\n",
       "<table border=\"1\" class=\"dataframe\">\n",
       "  <thead>\n",
       "    <tr style=\"text-align: right;\">\n",
       "      <th></th>\n",
       "      <th>ID_CONTA</th>\n",
       "      <th>DT_VENCIMENTO</th>\n",
       "      <th>DS_ROLAGEM</th>\n",
       "      <th>VL_FATURA</th>\n",
       "      <th>MÊS</th>\n",
       "    </tr>\n",
       "  </thead>\n",
       "  <tbody>\n",
       "    <tr>\n",
       "      <th>464874</th>\n",
       "      <td>1624902</td>\n",
       "      <td>2019-08-08</td>\n",
       "      <td>0</td>\n",
       "      <td>226.62</td>\n",
       "      <td>8</td>\n",
       "    </tr>\n",
       "    <tr>\n",
       "      <th>464875</th>\n",
       "      <td>1624908</td>\n",
       "      <td>2019-08-08</td>\n",
       "      <td>0</td>\n",
       "      <td>921.09</td>\n",
       "      <td>8</td>\n",
       "    </tr>\n",
       "    <tr>\n",
       "      <th>464876</th>\n",
       "      <td>1624916</td>\n",
       "      <td>2019-08-08</td>\n",
       "      <td>0</td>\n",
       "      <td>1456.75</td>\n",
       "      <td>8</td>\n",
       "    </tr>\n",
       "    <tr>\n",
       "      <th>464877</th>\n",
       "      <td>1624951</td>\n",
       "      <td>2019-08-08</td>\n",
       "      <td>0</td>\n",
       "      <td>70.11</td>\n",
       "      <td>8</td>\n",
       "    </tr>\n",
       "    <tr>\n",
       "      <th>464878</th>\n",
       "      <td>1624975</td>\n",
       "      <td>2019-08-08</td>\n",
       "      <td>0</td>\n",
       "      <td>49.05</td>\n",
       "      <td>8</td>\n",
       "    </tr>\n",
       "  </tbody>\n",
       "</table>\n",
       "</div>"
      ],
      "text/plain": [
       "        ID_CONTA DT_VENCIMENTO  DS_ROLAGEM  VL_FATURA  MÊS\n",
       "464874   1624902    2019-08-08           0     226.62    8\n",
       "464875   1624908    2019-08-08           0     921.09    8\n",
       "464876   1624916    2019-08-08           0    1456.75    8\n",
       "464877   1624951    2019-08-08           0      70.11    8\n",
       "464878   1624975    2019-08-08           0      49.05    8"
      ]
     },
     "execution_count": 103,
     "metadata": {},
     "output_type": "execute_result"
    }
   ],
   "source": [
    "df_seis_meses['DS_ROLAGEM'] = df_seis_meses['DS_ROLAGEM'].apply(lambda x : 0 if (x == 'FX0') or (x == 0) else 1)\n",
    "df_seis_meses.head()"
   ]
  },
  {
   "cell_type": "markdown",
   "id": "a4ce55d4",
   "metadata": {},
   "source": [
    "### 5. Realizar transformação de cada coluna para o que é pedido"
   ]
  },
  {
   "cell_type": "code",
   "execution_count": 115,
   "id": "646e0084",
   "metadata": {
    "scrolled": true
   },
   "outputs": [
    {
     "data": {
      "text/html": [
       "<div>\n",
       "<style scoped>\n",
       "    .dataframe tbody tr th:only-of-type {\n",
       "        vertical-align: middle;\n",
       "    }\n",
       "\n",
       "    .dataframe tbody tr th {\n",
       "        vertical-align: top;\n",
       "    }\n",
       "\n",
       "    .dataframe thead th {\n",
       "        text-align: right;\n",
       "    }\n",
       "</style>\n",
       "<table border=\"1\" class=\"dataframe\">\n",
       "  <thead>\n",
       "    <tr style=\"text-align: right;\">\n",
       "      <th></th>\n",
       "      <th>ID_CONTA</th>\n",
       "      <th>QTD_FATURAS_ULT_6M</th>\n",
       "    </tr>\n",
       "  </thead>\n",
       "  <tbody>\n",
       "    <tr>\n",
       "      <th>0</th>\n",
       "      <td>27717</td>\n",
       "      <td>6</td>\n",
       "    </tr>\n",
       "    <tr>\n",
       "      <th>1</th>\n",
       "      <td>27789</td>\n",
       "      <td>6</td>\n",
       "    </tr>\n",
       "    <tr>\n",
       "      <th>2</th>\n",
       "      <td>29643</td>\n",
       "      <td>1</td>\n",
       "    </tr>\n",
       "    <tr>\n",
       "      <th>3</th>\n",
       "      <td>29766</td>\n",
       "      <td>1</td>\n",
       "    </tr>\n",
       "    <tr>\n",
       "      <th>4</th>\n",
       "      <td>30256</td>\n",
       "      <td>6</td>\n",
       "    </tr>\n",
       "  </tbody>\n",
       "</table>\n",
       "</div>"
      ],
      "text/plain": [
       "   ID_CONTA  QTD_FATURAS_ULT_6M\n",
       "0     27717                   6\n",
       "1     27789                   6\n",
       "2     29643                   1\n",
       "3     29766                   1\n",
       "4     30256                   6"
      ]
     },
     "execution_count": 115,
     "metadata": {},
     "output_type": "execute_result"
    }
   ],
   "source": [
    "quantidade_fatura = pd.DataFrame(df_seis_meses.groupby('ID_CONTA')['ID_CONTA'].count()).rename(columns = {'ID_CONTA' : 'QTD_FATURAS_ULT_6M'}).reset_index()\n",
    "df_setembro = df_setembro.merge(quantidade_fatura, how = 'inner', on = 'ID_CONTA')\n",
    "quantidade_fatura.head()"
   ]
  },
  {
   "cell_type": "code",
   "execution_count": 119,
   "id": "e360ebfd",
   "metadata": {},
   "outputs": [
    {
     "data": {
      "text/html": [
       "<div>\n",
       "<style scoped>\n",
       "    .dataframe tbody tr th:only-of-type {\n",
       "        vertical-align: middle;\n",
       "    }\n",
       "\n",
       "    .dataframe tbody tr th {\n",
       "        vertical-align: top;\n",
       "    }\n",
       "\n",
       "    .dataframe thead th {\n",
       "        text-align: right;\n",
       "    }\n",
       "</style>\n",
       "<table border=\"1\" class=\"dataframe\">\n",
       "  <thead>\n",
       "    <tr style=\"text-align: right;\">\n",
       "      <th></th>\n",
       "      <th>ID_CONTA</th>\n",
       "      <th>VL_MEDIO_FATURA</th>\n",
       "    </tr>\n",
       "  </thead>\n",
       "  <tbody>\n",
       "    <tr>\n",
       "      <th>0</th>\n",
       "      <td>27717</td>\n",
       "      <td>1623.128333</td>\n",
       "    </tr>\n",
       "    <tr>\n",
       "      <th>1</th>\n",
       "      <td>27789</td>\n",
       "      <td>913.355000</td>\n",
       "    </tr>\n",
       "    <tr>\n",
       "      <th>2</th>\n",
       "      <td>29643</td>\n",
       "      <td>115.940000</td>\n",
       "    </tr>\n",
       "    <tr>\n",
       "      <th>3</th>\n",
       "      <td>29766</td>\n",
       "      <td>47.630000</td>\n",
       "    </tr>\n",
       "    <tr>\n",
       "      <th>4</th>\n",
       "      <td>30256</td>\n",
       "      <td>441.881667</td>\n",
       "    </tr>\n",
       "  </tbody>\n",
       "</table>\n",
       "</div>"
      ],
      "text/plain": [
       "   ID_CONTA  VL_MEDIO_FATURA\n",
       "0     27717      1623.128333\n",
       "1     27789       913.355000\n",
       "2     29643       115.940000\n",
       "3     29766        47.630000\n",
       "4     30256       441.881667"
      ]
     },
     "execution_count": 119,
     "metadata": {},
     "output_type": "execute_result"
    }
   ],
   "source": [
    "valor_medio = pd.DataFrame(df_seis_meses.groupby('ID_CONTA')['VL_FATURA'].mean()).rename(columns = {'VL_FATURA' : 'VL_MEDIO_FATURA'}).reset_index()\n",
    "df_setembro = df_setembro.merge(valor_medio, how = 'inner', on = 'ID_CONTA')\n",
    "valor_medio.head()"
   ]
  },
  {
   "cell_type": "code",
   "execution_count": 123,
   "id": "ec56a597",
   "metadata": {},
   "outputs": [
    {
     "data": {
      "text/html": [
       "<div>\n",
       "<style scoped>\n",
       "    .dataframe tbody tr th:only-of-type {\n",
       "        vertical-align: middle;\n",
       "    }\n",
       "\n",
       "    .dataframe tbody tr th {\n",
       "        vertical-align: top;\n",
       "    }\n",
       "\n",
       "    .dataframe thead th {\n",
       "        text-align: right;\n",
       "    }\n",
       "</style>\n",
       "<table border=\"1\" class=\"dataframe\">\n",
       "  <thead>\n",
       "    <tr style=\"text-align: right;\">\n",
       "      <th></th>\n",
       "      <th>ID_CONTA</th>\n",
       "      <th>QTD_FATURAS_ULT_6M_FX1</th>\n",
       "    </tr>\n",
       "  </thead>\n",
       "  <tbody>\n",
       "    <tr>\n",
       "      <th>0</th>\n",
       "      <td>27717</td>\n",
       "      <td>0</td>\n",
       "    </tr>\n",
       "    <tr>\n",
       "      <th>1</th>\n",
       "      <td>27789</td>\n",
       "      <td>0</td>\n",
       "    </tr>\n",
       "    <tr>\n",
       "      <th>2</th>\n",
       "      <td>29643</td>\n",
       "      <td>1</td>\n",
       "    </tr>\n",
       "    <tr>\n",
       "      <th>3</th>\n",
       "      <td>29766</td>\n",
       "      <td>0</td>\n",
       "    </tr>\n",
       "    <tr>\n",
       "      <th>4</th>\n",
       "      <td>30256</td>\n",
       "      <td>0</td>\n",
       "    </tr>\n",
       "  </tbody>\n",
       "</table>\n",
       "</div>"
      ],
      "text/plain": [
       "   ID_CONTA  QTD_FATURAS_ULT_6M_FX1\n",
       "0     27717                       0\n",
       "1     27789                       0\n",
       "2     29643                       1\n",
       "3     29766                       0\n",
       "4     30256                       0"
      ]
     },
     "execution_count": 123,
     "metadata": {},
     "output_type": "execute_result"
    }
   ],
   "source": [
    "quantidade_fatura_nao_paga = pd.DataFrame(df_seis_meses.groupby('ID_CONTA')['DS_ROLAGEM'].sum()).rename(columns = {'DS_ROLAGEM' : 'QTD_FATURAS_ULT_6M_FX1'}).reset_index()\n",
    "df_setembro = df_setembro.merge(quantidade_fatura_nao_paga, how = 'inner', on = 'ID_CONTA')\n",
    "quantidade_fatura_nao_paga.head()"
   ]
  },
  {
   "cell_type": "markdown",
   "id": "717857f0",
   "metadata": {},
   "source": [
    "### 5. Gerar novo DataFrame\n"
   ]
  },
  {
   "cell_type": "code",
   "execution_count": 124,
   "id": "a21aff1b",
   "metadata": {
    "scrolled": false
   },
   "outputs": [
    {
     "data": {
      "text/html": [
       "<div>\n",
       "<style scoped>\n",
       "    .dataframe tbody tr th:only-of-type {\n",
       "        vertical-align: middle;\n",
       "    }\n",
       "\n",
       "    .dataframe tbody tr th {\n",
       "        vertical-align: top;\n",
       "    }\n",
       "\n",
       "    .dataframe thead th {\n",
       "        text-align: right;\n",
       "    }\n",
       "</style>\n",
       "<table border=\"1\" class=\"dataframe\">\n",
       "  <thead>\n",
       "    <tr style=\"text-align: right;\">\n",
       "      <th></th>\n",
       "      <th>ID_CONTA</th>\n",
       "      <th>DS_ROLAGEM</th>\n",
       "      <th>DT_VENCIMENTO</th>\n",
       "      <th>QTD_FATURAS_ULT_6M</th>\n",
       "      <th>VL_MEDIO_FATURA</th>\n",
       "      <th>QTD_FATURAS_ULT_6M_FX1</th>\n",
       "    </tr>\n",
       "  </thead>\n",
       "  <tbody>\n",
       "    <tr>\n",
       "      <th>0</th>\n",
       "      <td>99416</td>\n",
       "      <td>FX0</td>\n",
       "      <td>2019-09-01</td>\n",
       "      <td>6</td>\n",
       "      <td>2791.616667</td>\n",
       "      <td>0</td>\n",
       "    </tr>\n",
       "    <tr>\n",
       "      <th>1</th>\n",
       "      <td>52706</td>\n",
       "      <td>FX0</td>\n",
       "      <td>2019-09-01</td>\n",
       "      <td>6</td>\n",
       "      <td>309.641667</td>\n",
       "      <td>0</td>\n",
       "    </tr>\n",
       "    <tr>\n",
       "      <th>2</th>\n",
       "      <td>1024221</td>\n",
       "      <td>FX0</td>\n",
       "      <td>2019-09-01</td>\n",
       "      <td>6</td>\n",
       "      <td>295.175000</td>\n",
       "      <td>0</td>\n",
       "    </tr>\n",
       "    <tr>\n",
       "      <th>3</th>\n",
       "      <td>1024238</td>\n",
       "      <td>FX0</td>\n",
       "      <td>2019-09-01</td>\n",
       "      <td>6</td>\n",
       "      <td>870.556667</td>\n",
       "      <td>0</td>\n",
       "    </tr>\n",
       "    <tr>\n",
       "      <th>4</th>\n",
       "      <td>1024293</td>\n",
       "      <td>FX0</td>\n",
       "      <td>2019-09-01</td>\n",
       "      <td>6</td>\n",
       "      <td>1646.751667</td>\n",
       "      <td>0</td>\n",
       "    </tr>\n",
       "  </tbody>\n",
       "</table>\n",
       "</div>"
      ],
      "text/plain": [
       "   ID_CONTA DS_ROLAGEM DT_VENCIMENTO  QTD_FATURAS_ULT_6M  VL_MEDIO_FATURA  \\\n",
       "0     99416        FX0    2019-09-01                   6      2791.616667   \n",
       "1     52706        FX0    2019-09-01                   6       309.641667   \n",
       "2   1024221        FX0    2019-09-01                   6       295.175000   \n",
       "3   1024238        FX0    2019-09-01                   6       870.556667   \n",
       "4   1024293        FX0    2019-09-01                   6      1646.751667   \n",
       "\n",
       "   QTD_FATURAS_ULT_6M_FX1  \n",
       "0                       0  \n",
       "1                       0  \n",
       "2                       0  \n",
       "3                       0  \n",
       "4                       0  "
      ]
     },
     "execution_count": 124,
     "metadata": {},
     "output_type": "execute_result"
    }
   ],
   "source": [
    "df_setembro = df_setembro[['ID_CONTA', 'DS_ROLAGEM','DT_VENCIMENTO', 'QTD_FATURAS_ULT_6M','VL_MEDIO_FATURA','QTD_FATURAS_ULT_6M_FX1']]\n",
    "df_setembro.head()"
   ]
  },
  {
   "cell_type": "code",
   "execution_count": null,
   "id": "6f1939e6",
   "metadata": {},
   "outputs": [],
   "source": []
  },
  {
   "cell_type": "code",
   "execution_count": null,
   "id": "c2ac8504",
   "metadata": {
    "scrolled": true
   },
   "outputs": [],
   "source": []
  },
  {
   "cell_type": "code",
   "execution_count": null,
   "id": "d985b237",
   "metadata": {},
   "outputs": [],
   "source": []
  },
  {
   "cell_type": "code",
   "execution_count": null,
   "id": "65f49271",
   "metadata": {},
   "outputs": [],
   "source": []
  },
  {
   "cell_type": "code",
   "execution_count": null,
   "id": "361fc953",
   "metadata": {
    "scrolled": true
   },
   "outputs": [],
   "source": []
  },
  {
   "cell_type": "code",
   "execution_count": null,
   "id": "1750736b",
   "metadata": {
    "scrolled": true
   },
   "outputs": [],
   "source": []
  },
  {
   "cell_type": "code",
   "execution_count": null,
   "id": "6483e6b7",
   "metadata": {},
   "outputs": [],
   "source": []
  }
 ],
 "metadata": {
  "kernelspec": {
   "display_name": "Python 3",
   "language": "python",
   "name": "python3"
  },
  "language_info": {
   "codemirror_mode": {
    "name": "ipython",
    "version": 3
   },
   "file_extension": ".py",
   "mimetype": "text/x-python",
   "name": "python",
   "nbconvert_exporter": "python",
   "pygments_lexer": "ipython3",
   "version": "3.9.4"
  }
 },
 "nbformat": 4,
 "nbformat_minor": 5
}
