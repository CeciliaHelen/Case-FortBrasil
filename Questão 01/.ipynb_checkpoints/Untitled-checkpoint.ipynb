{
 "cells": [
  {
   "cell_type": "markdown",
   "id": "14707ab7",
   "metadata": {},
   "source": [
    "# Case FortBrasil\n",
    "***"
   ]
  },
  {
   "cell_type": "markdown",
   "id": "9d246a06",
   "metadata": {},
   "source": [
    "###  **Legenda:**\n",
    "- **ID_CONTA:** Identificador da conta;\n",
    "- **DT_VENCIMENTO:** Data vencimento da fatura;\n",
    "- **DS_ROLAGEM:** Indicador que define se o cliente pagou a fatura do mês anterior ou não. Se o valor for *FX0* quer dizer que o cliente pagou a fatura do mês anterior e se o valor for *FX1* quer dizer que o cliente *não* pagou a fatura do mês anterior;\n",
    "- **VL_FATURA:** Valor da Fatura atual."
   ]
  },
  {
   "cell_type": "markdown",
   "id": "154a132b",
   "metadata": {},
   "source": [
    "## Questão 01\n",
    "### 1.1. Qual o percentual de faturas emitidas por mês no qual os clientes não pagaram a fatura anterior? \n",
    "***"
   ]
  },
  {
   "cell_type": "markdown",
   "id": "b017ff00",
   "metadata": {},
   "source": [
    "### Importação das bibliotecas"
   ]
  },
  {
   "cell_type": "code",
   "execution_count": 102,
   "id": "1f17b5e3",
   "metadata": {},
   "outputs": [],
   "source": [
    "import pandas as pd\n",
    "import numpy as np\n",
    "from matplotlib import pyplot as plt"
   ]
  },
  {
   "cell_type": "markdown",
   "id": "e44c3846",
   "metadata": {},
   "source": [
    "### Leitura da base de dados"
   ]
  },
  {
   "cell_type": "code",
   "execution_count": 103,
   "id": "b782f353",
   "metadata": {},
   "outputs": [
    {
     "data": {
      "text/html": [
       "<div>\n",
       "<style scoped>\n",
       "    .dataframe tbody tr th:only-of-type {\n",
       "        vertical-align: middle;\n",
       "    }\n",
       "\n",
       "    .dataframe tbody tr th {\n",
       "        vertical-align: top;\n",
       "    }\n",
       "\n",
       "    .dataframe thead th {\n",
       "        text-align: right;\n",
       "    }\n",
       "</style>\n",
       "<table border=\"1\" class=\"dataframe\">\n",
       "  <thead>\n",
       "    <tr style=\"text-align: right;\">\n",
       "      <th></th>\n",
       "      <th>ID_CONTA</th>\n",
       "      <th>DT_VENCIMENTO</th>\n",
       "      <th>DS_ROLAGEM</th>\n",
       "      <th>VL_FATURA</th>\n",
       "    </tr>\n",
       "  </thead>\n",
       "  <tbody>\n",
       "    <tr>\n",
       "      <th>0</th>\n",
       "      <td>402467</td>\n",
       "      <td>2019-01-01</td>\n",
       "      <td>FX0</td>\n",
       "      <td>210.00</td>\n",
       "    </tr>\n",
       "    <tr>\n",
       "      <th>1</th>\n",
       "      <td>403001</td>\n",
       "      <td>2019-01-01</td>\n",
       "      <td>FX1</td>\n",
       "      <td>1097.18</td>\n",
       "    </tr>\n",
       "    <tr>\n",
       "      <th>2</th>\n",
       "      <td>403499</td>\n",
       "      <td>2019-01-01</td>\n",
       "      <td>FX0</td>\n",
       "      <td>1209.88</td>\n",
       "    </tr>\n",
       "    <tr>\n",
       "      <th>3</th>\n",
       "      <td>403670</td>\n",
       "      <td>2019-01-01</td>\n",
       "      <td>FX0</td>\n",
       "      <td>667.40</td>\n",
       "    </tr>\n",
       "    <tr>\n",
       "      <th>4</th>\n",
       "      <td>404183</td>\n",
       "      <td>2019-01-01</td>\n",
       "      <td>FX1</td>\n",
       "      <td>1239.52</td>\n",
       "    </tr>\n",
       "  </tbody>\n",
       "</table>\n",
       "</div>"
      ],
      "text/plain": [
       "   ID_CONTA DT_VENCIMENTO DS_ROLAGEM  VL_FATURA\n",
       "0    402467    2019-01-01        FX0     210.00\n",
       "1    403001    2019-01-01        FX1    1097.18\n",
       "2    403499    2019-01-01        FX0    1209.88\n",
       "3    403670    2019-01-01        FX0     667.40\n",
       "4    404183    2019-01-01        FX1    1239.52"
      ]
     },
     "execution_count": 103,
     "metadata": {},
     "output_type": "execute_result"
    }
   ],
   "source": [
    "df_inicial = pd.read_csv('Questão 1 - Base.txt', sep = \"\\t\")\n",
    "df_inicial.head()"
   ]
  },
  {
   "cell_type": "markdown",
   "id": "e10c41f3",
   "metadata": {},
   "source": [
    "### Verificação de NaN e nulos"
   ]
  },
  {
   "cell_type": "code",
   "execution_count": 104,
   "id": "eb4e288b",
   "metadata": {
    "scrolled": true
   },
   "outputs": [
    {
     "data": {
      "text/plain": [
       "ID_CONTA         0\n",
       "DT_VENCIMENTO    0\n",
       "DS_ROLAGEM       0\n",
       "VL_FATURA        0\n",
       "dtype: int64"
      ]
     },
     "execution_count": 104,
     "metadata": {},
     "output_type": "execute_result"
    }
   ],
   "source": [
    "# Sem registros de NaN nas colunas\n",
    "df_inicial.isna().sum()"
   ]
  },
  {
   "cell_type": "code",
   "execution_count": 120,
   "id": "0dea0087",
   "metadata": {},
   "outputs": [
    {
     "data": {
      "text/plain": [
       "ID_CONTA         0\n",
       "DT_VENCIMENTO    0\n",
       "DS_ROLAGEM       0\n",
       "VL_FATURA        0\n",
       "dtype: int64"
      ]
     },
     "execution_count": 120,
     "metadata": {},
     "output_type": "execute_result"
    }
   ],
   "source": [
    "# Sem registros de nulos nas colunas\n",
    "df_inicial.isnull().sum()"
   ]
  },
  {
   "cell_type": "markdown",
   "id": "ff2cdcd9",
   "metadata": {},
   "source": [
    "## Solução\n",
    "-> Explicar\n",
    "1. Filtrar colunas a serem usadas\n",
    "2. Pegar cada mês em que a fatura não foi paga\n",
    "3. Somar a quantidade de faturas não pagas de cada mês\n",
    "4. Calcular percentual desejado  \n",
    "O primeiro passo é observar que tipo\n"
   ]
  },
  {
   "cell_type": "markdown",
   "id": "46fc6906",
   "metadata": {},
   "source": [
    "### Filtrar colunas importantes a serem usadas "
   ]
  },
  {
   "cell_type": "code",
   "execution_count": 105,
   "id": "8c83bffb",
   "metadata": {
    "scrolled": true
   },
   "outputs": [
    {
     "data": {
      "text/html": [
       "<div>\n",
       "<style scoped>\n",
       "    .dataframe tbody tr th:only-of-type {\n",
       "        vertical-align: middle;\n",
       "    }\n",
       "\n",
       "    .dataframe tbody tr th {\n",
       "        vertical-align: top;\n",
       "    }\n",
       "\n",
       "    .dataframe thead th {\n",
       "        text-align: right;\n",
       "    }\n",
       "</style>\n",
       "<table border=\"1\" class=\"dataframe\">\n",
       "  <thead>\n",
       "    <tr style=\"text-align: right;\">\n",
       "      <th></th>\n",
       "      <th>DT_VENCIMENTO</th>\n",
       "      <th>DS_ROLAGEM</th>\n",
       "    </tr>\n",
       "  </thead>\n",
       "  <tbody>\n",
       "    <tr>\n",
       "      <th>0</th>\n",
       "      <td>2019-01-01</td>\n",
       "      <td>FX0</td>\n",
       "    </tr>\n",
       "    <tr>\n",
       "      <th>1</th>\n",
       "      <td>2019-01-01</td>\n",
       "      <td>FX1</td>\n",
       "    </tr>\n",
       "    <tr>\n",
       "      <th>2</th>\n",
       "      <td>2019-01-01</td>\n",
       "      <td>FX0</td>\n",
       "    </tr>\n",
       "    <tr>\n",
       "      <th>3</th>\n",
       "      <td>2019-01-01</td>\n",
       "      <td>FX0</td>\n",
       "    </tr>\n",
       "    <tr>\n",
       "      <th>4</th>\n",
       "      <td>2019-01-01</td>\n",
       "      <td>FX1</td>\n",
       "    </tr>\n",
       "  </tbody>\n",
       "</table>\n",
       "</div>"
      ],
      "text/plain": [
       "  DT_VENCIMENTO DS_ROLAGEM\n",
       "0    2019-01-01        FX0\n",
       "1    2019-01-01        FX1\n",
       "2    2019-01-01        FX0\n",
       "3    2019-01-01        FX0\n",
       "4    2019-01-01        FX1"
      ]
     },
     "execution_count": 105,
     "metadata": {},
     "output_type": "execute_result"
    }
   ],
   "source": [
    "df_filtrado = df_inicial[['DT_VENCIMENTO','DS_ROLAGEM']]\n",
    "df_filtrado.head()"
   ]
  },
  {
   "cell_type": "markdown",
   "id": "3c04e81f",
   "metadata": {},
   "source": [
    "### Verificar os tipos dos dados (não usar)"
   ]
  },
  {
   "cell_type": "code",
   "execution_count": 106,
   "id": "227aea18",
   "metadata": {
    "scrolled": true
   },
   "outputs": [
    {
     "name": "stdout",
     "output_type": "stream",
     "text": [
      "<class 'pandas.core.frame.DataFrame'>\n",
      "RangeIndex: 2728249 entries, 0 to 2728248\n",
      "Data columns (total 2 columns):\n",
      " #   Column         Dtype \n",
      "---  ------         ----- \n",
      " 0   DT_VENCIMENTO  object\n",
      " 1   DS_ROLAGEM     object\n",
      "dtypes: object(2)\n",
      "memory usage: 41.6+ MB\n"
     ]
    }
   ],
   "source": [
    "df_filtrado.info()"
   ]
  },
  {
   "cell_type": "markdown",
   "id": "e877806f",
   "metadata": {},
   "source": [
    "Perceba que o 'DT_VENCIMENTO' é do tipo 'object'. Para realizarmos o que se pede, devemos tranformar tais dados para o tipo 'datetime'."
   ]
  },
  {
   "cell_type": "markdown",
   "id": "af1e4085",
   "metadata": {},
   "source": [
    "### Transformação 'DT_VENCIMENTO' de object para datetime\n",
    "mudar só para mês"
   ]
  },
  {
   "cell_type": "code",
   "execution_count": 112,
   "id": "08e07736",
   "metadata": {},
   "outputs": [
    {
     "name": "stderr",
     "output_type": "stream",
     "text": [
      "<ipython-input-112-0ac0babe4212>:1: SettingWithCopyWarning: \n",
      "A value is trying to be set on a copy of a slice from a DataFrame.\n",
      "Try using .loc[row_indexer,col_indexer] = value instead\n",
      "\n",
      "See the caveats in the documentation: https://pandas.pydata.org/pandas-docs/stable/user_guide/indexing.html#returning-a-view-versus-a-copy\n",
      "  df_filtrado['DT_VENCIMENTO'] = (pd.to_datetime(df_filtrado['DT_VENCIMENTO'])).dt.month\n"
     ]
    },
    {
     "data": {
      "text/html": [
       "<div>\n",
       "<style scoped>\n",
       "    .dataframe tbody tr th:only-of-type {\n",
       "        vertical-align: middle;\n",
       "    }\n",
       "\n",
       "    .dataframe tbody tr th {\n",
       "        vertical-align: top;\n",
       "    }\n",
       "\n",
       "    .dataframe thead th {\n",
       "        text-align: right;\n",
       "    }\n",
       "</style>\n",
       "<table border=\"1\" class=\"dataframe\">\n",
       "  <thead>\n",
       "    <tr style=\"text-align: right;\">\n",
       "      <th></th>\n",
       "      <th>DT_VENCIMENTO</th>\n",
       "      <th>DS_ROLAGEM</th>\n",
       "      <th>CONTAGEM</th>\n",
       "    </tr>\n",
       "  </thead>\n",
       "  <tbody>\n",
       "    <tr>\n",
       "      <th>0</th>\n",
       "      <td>1</td>\n",
       "      <td>FX0</td>\n",
       "      <td>1</td>\n",
       "    </tr>\n",
       "    <tr>\n",
       "      <th>1</th>\n",
       "      <td>1</td>\n",
       "      <td>FX1</td>\n",
       "      <td>1</td>\n",
       "    </tr>\n",
       "    <tr>\n",
       "      <th>2</th>\n",
       "      <td>1</td>\n",
       "      <td>FX0</td>\n",
       "      <td>1</td>\n",
       "    </tr>\n",
       "    <tr>\n",
       "      <th>3</th>\n",
       "      <td>1</td>\n",
       "      <td>FX0</td>\n",
       "      <td>1</td>\n",
       "    </tr>\n",
       "    <tr>\n",
       "      <th>4</th>\n",
       "      <td>1</td>\n",
       "      <td>FX1</td>\n",
       "      <td>1</td>\n",
       "    </tr>\n",
       "  </tbody>\n",
       "</table>\n",
       "</div>"
      ],
      "text/plain": [
       "   DT_VENCIMENTO DS_ROLAGEM  CONTAGEM\n",
       "0              1        FX0         1\n",
       "1              1        FX1         1\n",
       "2              1        FX0         1\n",
       "3              1        FX0         1\n",
       "4              1        FX1         1"
      ]
     },
     "execution_count": 112,
     "metadata": {},
     "output_type": "execute_result"
    }
   ],
   "source": [
    "df_filtrado['DT_VENCIMENTO'] = (pd.to_datetime(df_filtrado['DT_VENCIMENTO'])).dt.month\n",
    "df_filtrado.head()"
   ]
  },
  {
   "cell_type": "code",
   "execution_count": 111,
   "id": "810e6e56",
   "metadata": {},
   "outputs": [
    {
     "name": "stderr",
     "output_type": "stream",
     "text": [
      "<ipython-input-111-9e5fa145d02d>:1: SettingWithCopyWarning: \n",
      "A value is trying to be set on a copy of a slice from a DataFrame.\n",
      "Try using .loc[row_indexer,col_indexer] = value instead\n",
      "\n",
      "See the caveats in the documentation: https://pandas.pydata.org/pandas-docs/stable/user_guide/indexing.html#returning-a-view-versus-a-copy\n",
      "  df_filtrado['CONTAGEM'] = 1\n"
     ]
    },
    {
     "data": {
      "text/html": [
       "<div>\n",
       "<style scoped>\n",
       "    .dataframe tbody tr th:only-of-type {\n",
       "        vertical-align: middle;\n",
       "    }\n",
       "\n",
       "    .dataframe tbody tr th {\n",
       "        vertical-align: top;\n",
       "    }\n",
       "\n",
       "    .dataframe thead th {\n",
       "        text-align: right;\n",
       "    }\n",
       "</style>\n",
       "<table border=\"1\" class=\"dataframe\">\n",
       "  <thead>\n",
       "    <tr style=\"text-align: right;\">\n",
       "      <th></th>\n",
       "      <th>DT_VENCIMENTO</th>\n",
       "      <th>DS_ROLAGEM</th>\n",
       "      <th>CONTAGEM</th>\n",
       "    </tr>\n",
       "  </thead>\n",
       "  <tbody>\n",
       "    <tr>\n",
       "      <th>0</th>\n",
       "      <td>1</td>\n",
       "      <td>FX0</td>\n",
       "      <td>1</td>\n",
       "    </tr>\n",
       "    <tr>\n",
       "      <th>1</th>\n",
       "      <td>1</td>\n",
       "      <td>FX1</td>\n",
       "      <td>1</td>\n",
       "    </tr>\n",
       "    <tr>\n",
       "      <th>2</th>\n",
       "      <td>1</td>\n",
       "      <td>FX0</td>\n",
       "      <td>1</td>\n",
       "    </tr>\n",
       "    <tr>\n",
       "      <th>3</th>\n",
       "      <td>1</td>\n",
       "      <td>FX0</td>\n",
       "      <td>1</td>\n",
       "    </tr>\n",
       "    <tr>\n",
       "      <th>4</th>\n",
       "      <td>1</td>\n",
       "      <td>FX1</td>\n",
       "      <td>1</td>\n",
       "    </tr>\n",
       "  </tbody>\n",
       "</table>\n",
       "</div>"
      ],
      "text/plain": [
       "   DT_VENCIMENTO DS_ROLAGEM  CONTAGEM\n",
       "0              1        FX0         1\n",
       "1              1        FX1         1\n",
       "2              1        FX0         1\n",
       "3              1        FX0         1\n",
       "4              1        FX1         1"
      ]
     },
     "execution_count": 111,
     "metadata": {},
     "output_type": "execute_result"
    }
   ],
   "source": [
    "df_filtrado['CONTAGEM'] = 1\n",
    "df_filtrado.head()"
   ]
  },
  {
   "cell_type": "code",
   "execution_count": 110,
   "id": "fed4a6d2",
   "metadata": {
    "scrolled": false
   },
   "outputs": [
    {
     "data": {
      "text/plain": [
       "DT_VENCIMENTO  DS_ROLAGEM\n",
       "1              FX0           290548\n",
       "               FX1            22835\n",
       "2              FX0           285921\n",
       "               FX1            27928\n",
       "3              FX0           273886\n",
       "Name: CONTAGEM, dtype: int64"
      ]
     },
     "execution_count": 110,
     "metadata": {},
     "output_type": "execute_result"
    }
   ],
   "source": [
    "df_agrupamento = df_filtrado.groupby(['DT_VENCIMENTO','DS_ROLAGEM'])['CONTAGEM'].sum()\n",
    "df_agrupamento.head()"
   ]
  },
  {
   "cell_type": "markdown",
   "id": "22b8608a",
   "metadata": {},
   "source": [
    "### Graficamente:"
   ]
  },
  {
   "cell_type": "code",
   "execution_count": null,
   "id": "da452b78",
   "metadata": {
    "scrolled": true
   },
   "outputs": [],
   "source": [
    "# Gráfico"
   ]
  },
  {
   "cell_type": "markdown",
   "id": "8aa15a4b",
   "metadata": {},
   "source": [
    "### Porcentagem:"
   ]
  },
  {
   "cell_type": "code",
   "execution_count": 118,
   "id": "1750736b",
   "metadata": {},
   "outputs": [],
   "source": [
    "#df_taxa['TAXA DE FX1 (%)'] = round((dfcase[dfcase['DS_ROLAGEM']=='FX1'].groupby('MES')['DS_ROLAGEM'].count()/dfcase.groupby('MES')['DS_ROLAGEM'].count())*100\n",
    "#df_porcentagem['(%) Faturas não pagas'] = df_agrupamento[df_agrupamento['DS_ROLAGEM'] == 'FX1'].groupy('DT_VENCIMENTO')['DS_ROLAGEM'].count()"
   ]
  },
  {
   "cell_type": "code",
   "execution_count": null,
   "id": "aafe7a2d",
   "metadata": {},
   "outputs": [],
   "source": []
  },
  {
   "cell_type": "markdown",
   "id": "b95a6138",
   "metadata": {},
   "source": [
    "### 1.2. Tendo como referência todos os clientes que tiveram fatura emitida no mês de setembro, gere uma base para esses clientes com os seguintes calculados:\n",
    "- Total de faturas emitidas nos últimos 6 meses (sem contar com a fatura de setembro);\n",
    "- O valor médio de fatura nos últimos 6 meses (sem contar com a fatura de setembro);\n",
    "- Quantidade de vezes que ele ficou sem pagar a fatura anterior nos últimos 6 meses (sem contar com a fatura de setembro). \n",
    "***"
   ]
  },
  {
   "cell_type": "code",
   "execution_count": null,
   "id": "646e0084",
   "metadata": {},
   "outputs": [],
   "source": []
  }
 ],
 "metadata": {
  "kernelspec": {
   "display_name": "Python 3",
   "language": "python",
   "name": "python3"
  },
  "language_info": {
   "codemirror_mode": {
    "name": "ipython",
    "version": 3
   },
   "file_extension": ".py",
   "mimetype": "text/x-python",
   "name": "python",
   "nbconvert_exporter": "python",
   "pygments_lexer": "ipython3",
   "version": "3.9.4"
  }
 },
 "nbformat": 4,
 "nbformat_minor": 5
}
