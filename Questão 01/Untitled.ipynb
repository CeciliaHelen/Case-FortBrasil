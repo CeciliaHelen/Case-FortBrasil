{
 "cells": [
  {
   "cell_type": "markdown",
   "id": "14707ab7",
   "metadata": {},
   "source": [
    "# Case FortBrasil\n",
    "***"
   ]
  },
  {
   "cell_type": "markdown",
   "id": "9d246a06",
   "metadata": {},
   "source": [
    "###  **Legenda:**\n",
    "- **ID_CONTA:** Identificador da conta;\n",
    "- **DT_VENCIMENTO:** Data vencimento da fatura;\n",
    "- **DS_ROLAGEM:** Indicador que define se o cliente pagou a fatura do mês anterior ou não. Se o valor for *FX0* quer dizer que o cliente pagou a fatura do mês anterior e se o valor for *FX1* quer dizer que o cliente *não* pagou a fatura do mês anterior;\n",
    "- **VL_FATURA:** Valor da Fatura atual."
   ]
  },
  {
   "cell_type": "markdown",
   "id": "154a132b",
   "metadata": {},
   "source": [
    "## Questão 01\n",
    "### 1.1. Qual o percentual de faturas emitidas por mês no qual os clientes não pagaram a fatura anterior? \n",
    "***"
   ]
  },
  {
   "cell_type": "markdown",
   "id": "b017ff00",
   "metadata": {},
   "source": [
    "### Importação das bibliotecas"
   ]
  },
  {
   "cell_type": "markdown",
   "id": "6b5b1471",
   "metadata": {},
   "source": [
    "Seleção de bibliotecas para manipulação de dados, criação de gráficos e tradução dos meses a serem usados do inglês para o português"
   ]
  },
  {
   "cell_type": "code",
   "execution_count": 45,
   "id": "1f17b5e3",
   "metadata": {},
   "outputs": [],
   "source": [
    "import pandas as pd\n",
    "from matplotlib import pyplot as plt\n",
    "pd.options.mode.chained_assignment = None\n",
    "import locale"
   ]
  },
  {
   "cell_type": "code",
   "execution_count": 44,
   "id": "a378d57c",
   "metadata": {},
   "outputs": [],
   "source": [
    "try:\n",
    "    locale.setlocale(locale.LC_ALL, 'pt_BR')\n",
    "except:\n",
    "    locale.setlocale(locale.LC_ALL, 'Portuguese_Brazil')"
   ]
  },
  {
   "cell_type": "markdown",
   "id": "e44c3846",
   "metadata": {},
   "source": [
    "### Leitura da base de dados"
   ]
  },
  {
   "cell_type": "code",
   "execution_count": 29,
   "id": "b782f353",
   "metadata": {
    "scrolled": true
   },
   "outputs": [
    {
     "data": {
      "text/html": [
       "<div>\n",
       "<style scoped>\n",
       "    .dataframe tbody tr th:only-of-type {\n",
       "        vertical-align: middle;\n",
       "    }\n",
       "\n",
       "    .dataframe tbody tr th {\n",
       "        vertical-align: top;\n",
       "    }\n",
       "\n",
       "    .dataframe thead th {\n",
       "        text-align: right;\n",
       "    }\n",
       "</style>\n",
       "<table border=\"1\" class=\"dataframe\">\n",
       "  <thead>\n",
       "    <tr style=\"text-align: right;\">\n",
       "      <th></th>\n",
       "      <th>ID_CONTA</th>\n",
       "      <th>DT_VENCIMENTO</th>\n",
       "      <th>DS_ROLAGEM</th>\n",
       "      <th>VL_FATURA</th>\n",
       "    </tr>\n",
       "  </thead>\n",
       "  <tbody>\n",
       "    <tr>\n",
       "      <th>0</th>\n",
       "      <td>402467</td>\n",
       "      <td>2019-01-01</td>\n",
       "      <td>FX0</td>\n",
       "      <td>210.00</td>\n",
       "    </tr>\n",
       "    <tr>\n",
       "      <th>1</th>\n",
       "      <td>403001</td>\n",
       "      <td>2019-01-01</td>\n",
       "      <td>FX1</td>\n",
       "      <td>1097.18</td>\n",
       "    </tr>\n",
       "    <tr>\n",
       "      <th>2</th>\n",
       "      <td>403499</td>\n",
       "      <td>2019-01-01</td>\n",
       "      <td>FX0</td>\n",
       "      <td>1209.88</td>\n",
       "    </tr>\n",
       "    <tr>\n",
       "      <th>3</th>\n",
       "      <td>403670</td>\n",
       "      <td>2019-01-01</td>\n",
       "      <td>FX0</td>\n",
       "      <td>667.40</td>\n",
       "    </tr>\n",
       "    <tr>\n",
       "      <th>4</th>\n",
       "      <td>404183</td>\n",
       "      <td>2019-01-01</td>\n",
       "      <td>FX1</td>\n",
       "      <td>1239.52</td>\n",
       "    </tr>\n",
       "  </tbody>\n",
       "</table>\n",
       "</div>"
      ],
      "text/plain": [
       "   ID_CONTA DT_VENCIMENTO DS_ROLAGEM  VL_FATURA\n",
       "0    402467    2019-01-01        FX0     210.00\n",
       "1    403001    2019-01-01        FX1    1097.18\n",
       "2    403499    2019-01-01        FX0    1209.88\n",
       "3    403670    2019-01-01        FX0     667.40\n",
       "4    404183    2019-01-01        FX1    1239.52"
      ]
     },
     "execution_count": 29,
     "metadata": {},
     "output_type": "execute_result"
    }
   ],
   "source": [
    "df_inicial = pd.read_csv('Questão 1 - Base.txt', sep = \"\\t\")\n",
    "df_inicial.head()"
   ]
  },
  {
   "cell_type": "markdown",
   "id": "e10c41f3",
   "metadata": {},
   "source": [
    "### Verificação de NaN"
   ]
  },
  {
   "cell_type": "markdown",
   "id": "b9180f6f",
   "metadata": {},
   "source": [
    "É sempre interessante que tratemos os NaN, pois eles interferem em nossa modelagem de dados. Para esse caso, não foi encontrado nenhum."
   ]
  },
  {
   "cell_type": "code",
   "execution_count": 46,
   "id": "eb4e288b",
   "metadata": {
    "scrolled": false
   },
   "outputs": [
    {
     "data": {
      "text/plain": [
       "ID_CONTA         0\n",
       "DT_VENCIMENTO    0\n",
       "DS_ROLAGEM       0\n",
       "VL_FATURA        0\n",
       "dtype: int64"
      ]
     },
     "execution_count": 46,
     "metadata": {},
     "output_type": "execute_result"
    }
   ],
   "source": [
    "# Sem registros de NaN nas colunas\n",
    "df_inicial.isna().sum()"
   ]
  },
  {
   "cell_type": "markdown",
   "id": "ff2cdcd9",
   "metadata": {},
   "source": [
    "## Solução\n",
    "Qual o percentual de faturas emitidas por mês no qual os clientes não pagaram a fatura anterior?\n",
    "\n",
    "Para essa questão devemos seguir os seguintes passos:\n",
    "\n",
    "1. Filtrar principais colunas a serem usadas (isso nos permite trabalhar com dados, de fato, essenciais para a modelagem)\n",
    "2. Mudar tipo de dado da tabela \"DT_VENCIMENTO\" para datetime, afim de conseguirmos filtrar os dados por mês\n",
    "3. Criar uma coluna contador para \n",
    "3. Somar a quantidade de faturas não pagas de cada mês\n",
    "4. Calcular percentual desejado  \n",
    "O primeiro passo é observar que tipo\n"
   ]
  },
  {
   "cell_type": "markdown",
   "id": "46fc6906",
   "metadata": {},
   "source": [
    "### 1. Filtrar colunas importantes a serem usadas "
   ]
  },
  {
   "cell_type": "markdown",
   "id": "2572ccec",
   "metadata": {},
   "source": [
    "Após o tratamento dos dados, devemos selecionar a(s) informação(ões) útil(eis) para a manipulação dos dados. Assim, de acordo com o enunciado, precisamos apenas do mês da fatura emitida e do código dos clientes que não pagaram a fatura anterior."
   ]
  },
  {
   "cell_type": "code",
   "execution_count": 36,
   "id": "8c83bffb",
   "metadata": {
    "scrolled": false
   },
   "outputs": [
    {
     "data": {
      "text/html": [
       "<div>\n",
       "<style scoped>\n",
       "    .dataframe tbody tr th:only-of-type {\n",
       "        vertical-align: middle;\n",
       "    }\n",
       "\n",
       "    .dataframe tbody tr th {\n",
       "        vertical-align: top;\n",
       "    }\n",
       "\n",
       "    .dataframe thead th {\n",
       "        text-align: right;\n",
       "    }\n",
       "</style>\n",
       "<table border=\"1\" class=\"dataframe\">\n",
       "  <thead>\n",
       "    <tr style=\"text-align: right;\">\n",
       "      <th></th>\n",
       "      <th>DT_VENCIMENTO</th>\n",
       "      <th>DS_ROLAGEM</th>\n",
       "    </tr>\n",
       "  </thead>\n",
       "  <tbody>\n",
       "    <tr>\n",
       "      <th>0</th>\n",
       "      <td>2019-01-01</td>\n",
       "      <td>FX0</td>\n",
       "    </tr>\n",
       "    <tr>\n",
       "      <th>1</th>\n",
       "      <td>2019-01-01</td>\n",
       "      <td>FX1</td>\n",
       "    </tr>\n",
       "    <tr>\n",
       "      <th>2</th>\n",
       "      <td>2019-01-01</td>\n",
       "      <td>FX0</td>\n",
       "    </tr>\n",
       "    <tr>\n",
       "      <th>3</th>\n",
       "      <td>2019-01-01</td>\n",
       "      <td>FX0</td>\n",
       "    </tr>\n",
       "    <tr>\n",
       "      <th>4</th>\n",
       "      <td>2019-01-01</td>\n",
       "      <td>FX1</td>\n",
       "    </tr>\n",
       "  </tbody>\n",
       "</table>\n",
       "</div>"
      ],
      "text/plain": [
       "  DT_VENCIMENTO DS_ROLAGEM\n",
       "0    2019-01-01        FX0\n",
       "1    2019-01-01        FX1\n",
       "2    2019-01-01        FX0\n",
       "3    2019-01-01        FX0\n",
       "4    2019-01-01        FX1"
      ]
     },
     "execution_count": 36,
     "metadata": {},
     "output_type": "execute_result"
    }
   ],
   "source": [
    "df_filtrado = df_inicial[['DT_VENCIMENTO','DS_ROLAGEM']]\n",
    "df_filtrado.head()"
   ]
  },
  {
   "cell_type": "markdown",
   "id": "af1e4085",
   "metadata": {},
   "source": [
    "### 2. Transformação 'DT_VENCIMENTO' de object para datetime\n",
    "Primeiro devemos verificar se o tipo de dado da coluna 'DT_VENCIMENTO' já é datetime ou é outro"
   ]
  },
  {
   "cell_type": "code",
   "execution_count": 47,
   "id": "d7989695",
   "metadata": {},
   "outputs": [
    {
     "name": "stdout",
     "output_type": "stream",
     "text": [
      "<class 'pandas.core.frame.DataFrame'>\n",
      "RangeIndex: 2728249 entries, 0 to 2728248\n",
      "Data columns (total 3 columns):\n",
      " #   Column         Dtype \n",
      "---  ------         ----- \n",
      " 0   DT_VENCIMENTO  object\n",
      " 1   DS_ROLAGEM     object\n",
      " 2   CONTAGEM       int64 \n",
      "dtypes: int64(1), object(2)\n",
      "memory usage: 62.4+ MB\n"
     ]
    }
   ],
   "source": [
    "df_filtrado.info()"
   ]
  },
  {
   "cell_type": "markdown",
   "id": "be265fe0",
   "metadata": {},
   "source": [
    "Confirmado que a coluna 'DT_VENCIMENTO' é um object, devemos realizar sua mudança de tipo para datetime, com o intuito de conseguirmos filtrar os meses de faturamento para o cálculo percentual"
   ]
  },
  {
   "cell_type": "code",
   "execution_count": 38,
   "id": "2439b86e",
   "metadata": {},
   "outputs": [
    {
     "name": "stdout",
     "output_type": "stream",
     "text": [
      "<class 'pandas.core.frame.DataFrame'>\n",
      "RangeIndex: 2728249 entries, 0 to 2728248\n",
      "Data columns (total 2 columns):\n",
      " #   Column         Dtype         \n",
      "---  ------         -----         \n",
      " 0   DT_VENCIMENTO  datetime64[ns]\n",
      " 1   DS_ROLAGEM     object        \n",
      "dtypes: datetime64[ns](1), object(1)\n",
      "memory usage: 41.6+ MB\n"
     ]
    }
   ],
   "source": [
    "df_filtrado['DT_VENCIMENTO'] = pd.to_datetime(df_filtrado['DT_VENCIMENTO'])\n",
    "df_filtrado.info()"
   ]
  },
  {
   "cell_type": "code",
   "execution_count": null,
   "id": "5eeead4e",
   "metadata": {},
   "outputs": [],
   "source": []
  },
  {
   "cell_type": "code",
   "execution_count": 39,
   "id": "08e07736",
   "metadata": {
    "scrolled": false
   },
   "outputs": [
    {
     "data": {
      "text/html": [
       "<div>\n",
       "<style scoped>\n",
       "    .dataframe tbody tr th:only-of-type {\n",
       "        vertical-align: middle;\n",
       "    }\n",
       "\n",
       "    .dataframe tbody tr th {\n",
       "        vertical-align: top;\n",
       "    }\n",
       "\n",
       "    .dataframe thead th {\n",
       "        text-align: right;\n",
       "    }\n",
       "</style>\n",
       "<table border=\"1\" class=\"dataframe\">\n",
       "  <thead>\n",
       "    <tr style=\"text-align: right;\">\n",
       "      <th></th>\n",
       "      <th>DT_VENCIMENTO</th>\n",
       "      <th>DS_ROLAGEM</th>\n",
       "    </tr>\n",
       "  </thead>\n",
       "  <tbody>\n",
       "    <tr>\n",
       "      <th>0</th>\n",
       "      <td>janeiro - 2019</td>\n",
       "      <td>FX0</td>\n",
       "    </tr>\n",
       "    <tr>\n",
       "      <th>1</th>\n",
       "      <td>janeiro - 2019</td>\n",
       "      <td>FX1</td>\n",
       "    </tr>\n",
       "    <tr>\n",
       "      <th>2</th>\n",
       "      <td>janeiro - 2019</td>\n",
       "      <td>FX0</td>\n",
       "    </tr>\n",
       "    <tr>\n",
       "      <th>3</th>\n",
       "      <td>janeiro - 2019</td>\n",
       "      <td>FX0</td>\n",
       "    </tr>\n",
       "    <tr>\n",
       "      <th>4</th>\n",
       "      <td>janeiro - 2019</td>\n",
       "      <td>FX1</td>\n",
       "    </tr>\n",
       "  </tbody>\n",
       "</table>\n",
       "</div>"
      ],
      "text/plain": [
       "    DT_VENCIMENTO DS_ROLAGEM\n",
       "0  janeiro - 2019        FX0\n",
       "1  janeiro - 2019        FX1\n",
       "2  janeiro - 2019        FX0\n",
       "3  janeiro - 2019        FX0\n",
       "4  janeiro - 2019        FX1"
      ]
     },
     "execution_count": 39,
     "metadata": {},
     "output_type": "execute_result"
    }
   ],
   "source": [
    "df_filtrado['DT_VENCIMENTO'] = df_filtrado['DT_VENCIMENTO'].apply(lambda x: x.strftime(\"%B - %Y\"))\n",
    "df_filtrado.head()"
   ]
  },
  {
   "cell_type": "markdown",
   "id": "0ab3e2a9",
   "metadata": {},
   "source": [
    "### 3. Criar coluna para contagem"
   ]
  },
  {
   "cell_type": "code",
   "execution_count": null,
   "id": "c2ac8504",
   "metadata": {},
   "outputs": [],
   "source": []
  },
  {
   "cell_type": "code",
   "execution_count": 41,
   "id": "810e6e56",
   "metadata": {
    "scrolled": true
   },
   "outputs": [
    {
     "data": {
      "text/html": [
       "<div>\n",
       "<style scoped>\n",
       "    .dataframe tbody tr th:only-of-type {\n",
       "        vertical-align: middle;\n",
       "    }\n",
       "\n",
       "    .dataframe tbody tr th {\n",
       "        vertical-align: top;\n",
       "    }\n",
       "\n",
       "    .dataframe thead th {\n",
       "        text-align: right;\n",
       "    }\n",
       "</style>\n",
       "<table border=\"1\" class=\"dataframe\">\n",
       "  <thead>\n",
       "    <tr style=\"text-align: right;\">\n",
       "      <th></th>\n",
       "      <th>DT_VENCIMENTO</th>\n",
       "      <th>DS_ROLAGEM</th>\n",
       "      <th>CONTAGEM</th>\n",
       "    </tr>\n",
       "  </thead>\n",
       "  <tbody>\n",
       "    <tr>\n",
       "      <th>0</th>\n",
       "      <td>janeiro - 2019</td>\n",
       "      <td>FX0</td>\n",
       "      <td>1</td>\n",
       "    </tr>\n",
       "    <tr>\n",
       "      <th>1</th>\n",
       "      <td>janeiro - 2019</td>\n",
       "      <td>FX1</td>\n",
       "      <td>1</td>\n",
       "    </tr>\n",
       "    <tr>\n",
       "      <th>2</th>\n",
       "      <td>janeiro - 2019</td>\n",
       "      <td>FX0</td>\n",
       "      <td>1</td>\n",
       "    </tr>\n",
       "    <tr>\n",
       "      <th>3</th>\n",
       "      <td>janeiro - 2019</td>\n",
       "      <td>FX0</td>\n",
       "      <td>1</td>\n",
       "    </tr>\n",
       "    <tr>\n",
       "      <th>4</th>\n",
       "      <td>janeiro - 2019</td>\n",
       "      <td>FX1</td>\n",
       "      <td>1</td>\n",
       "    </tr>\n",
       "  </tbody>\n",
       "</table>\n",
       "</div>"
      ],
      "text/plain": [
       "    DT_VENCIMENTO DS_ROLAGEM  CONTAGEM\n",
       "0  janeiro - 2019        FX0         1\n",
       "1  janeiro - 2019        FX1         1\n",
       "2  janeiro - 2019        FX0         1\n",
       "3  janeiro - 2019        FX0         1\n",
       "4  janeiro - 2019        FX1         1"
      ]
     },
     "execution_count": 41,
     "metadata": {},
     "output_type": "execute_result"
    }
   ],
   "source": [
    "df_filtrado['CONTAGEM'] = 1\n",
    "df_filtrado.head()"
   ]
  },
  {
   "cell_type": "markdown",
   "id": "d0b8df95",
   "metadata": {},
   "source": [
    "### 4. Criar um novo DataFrame com a soma das faturas pagas e não pagas anteriormente\n",
    "-"
   ]
  },
  {
   "cell_type": "code",
   "execution_count": 42,
   "id": "fed4a6d2",
   "metadata": {
    "scrolled": false
   },
   "outputs": [
    {
     "data": {
      "text/plain": [
       "DT_VENCIMENTO     DS_ROLAGEM\n",
       "abril - 2019      FX0           276950\n",
       "                  FX1            25380\n",
       "agosto - 2019     FX0           288331\n",
       "                  FX1            28736\n",
       "fevereiro - 2019  FX0           285921\n",
       "                  FX1            27928\n",
       "janeiro - 2019    FX0           290548\n",
       "                  FX1            22835\n",
       "julho - 2019      FX0           281005\n",
       "                  FX1            29889\n",
       "junho - 2019      FX0           278389\n",
       "                  FX1            25977\n",
       "maio - 2019       FX0           271544\n",
       "                  FX1            30321\n",
       "março - 2019      FX0           273886\n",
       "                  FX1            33432\n",
       "setembro - 2019   FX0           235222\n",
       "                  FX1            21955\n",
       "Name: CONTAGEM, dtype: int64"
      ]
     },
     "execution_count": 42,
     "metadata": {},
     "output_type": "execute_result"
    }
   ],
   "source": [
    "df_agrupamento = df_filtrado.groupby(['DT_VENCIMENTO','DS_ROLAGEM'])['CONTAGEM'].sum()\n",
    "df_agrupamento"
   ]
  },
  {
   "cell_type": "markdown",
   "id": "8aa15a4b",
   "metadata": {},
   "source": [
    "### Porcentagem:"
   ]
  },
  {
   "cell_type": "code",
   "execution_count": 69,
   "id": "ac349387",
   "metadata": {},
   "outputs": [
    {
     "ename": "NameError",
     "evalue": "name 'dfcase' is not defined",
     "output_type": "error",
     "traceback": [
      "\u001b[1;31m---------------------------------------------------------------------------\u001b[0m",
      "\u001b[1;31mNameError\u001b[0m                                 Traceback (most recent call last)",
      "\u001b[1;32m<ipython-input-69-808b88dea05b>\u001b[0m in \u001b[0;36m<module>\u001b[1;34m\u001b[0m\n\u001b[0;32m      1\u001b[0m \u001b[0mdf_taxa\u001b[0m \u001b[1;33m=\u001b[0m \u001b[0mpd\u001b[0m\u001b[1;33m.\u001b[0m\u001b[0mDataFrame\u001b[0m\u001b[1;33m(\u001b[0m\u001b[1;33m)\u001b[0m\u001b[1;33m\u001b[0m\u001b[1;33m\u001b[0m\u001b[0m\n\u001b[1;32m----> 2\u001b[1;33m \u001b[0mdf_taxa\u001b[0m\u001b[1;33m[\u001b[0m\u001b[1;34m'TAXA DE FX1 (%)'\u001b[0m\u001b[1;33m]\u001b[0m \u001b[1;33m=\u001b[0m \u001b[0mround\u001b[0m\u001b[1;33m(\u001b[0m\u001b[1;33m(\u001b[0m\u001b[0mdfcase\u001b[0m\u001b[1;33m[\u001b[0m\u001b[0mdfcase\u001b[0m\u001b[1;33m[\u001b[0m\u001b[1;34m'DS_ROLAGEM'\u001b[0m\u001b[1;33m]\u001b[0m\u001b[1;33m==\u001b[0m\u001b[1;34m'FX1'\u001b[0m\u001b[1;33m]\u001b[0m\u001b[1;33m.\u001b[0m\u001b[0mgroupby\u001b[0m\u001b[1;33m(\u001b[0m\u001b[1;34m'MES'\u001b[0m\u001b[1;33m)\u001b[0m\u001b[1;33m[\u001b[0m\u001b[1;34m'DS_ROLAGEM'\u001b[0m\u001b[1;33m]\u001b[0m\u001b[1;33m.\u001b[0m\u001b[0mcount\u001b[0m\u001b[1;33m(\u001b[0m\u001b[1;33m)\u001b[0m\u001b[1;33m/\u001b[0m\u001b[0mdfcase\u001b[0m\u001b[1;33m.\u001b[0m\u001b[0mgroupby\u001b[0m\u001b[1;33m(\u001b[0m\u001b[1;34m'MES'\u001b[0m\u001b[1;33m)\u001b[0m\u001b[1;33m[\u001b[0m\u001b[1;34m'DS_ROLAGEM'\u001b[0m\u001b[1;33m]\u001b[0m\u001b[1;33m.\u001b[0m\u001b[0mcount\u001b[0m\u001b[1;33m(\u001b[0m\u001b[1;33m)\u001b[0m\u001b[1;33m)\u001b[0m\u001b[1;33m*\u001b[0m\u001b[1;36m100\u001b[0m\u001b[1;33m,\u001b[0m\u001b[1;36m2\u001b[0m\u001b[1;33m)\u001b[0m\u001b[1;33m\u001b[0m\u001b[1;33m\u001b[0m\u001b[0m\n\u001b[0m\u001b[0;32m      3\u001b[0m \u001b[0mdf_taxa\u001b[0m\u001b[1;33m.\u001b[0m\u001b[0mreset_index\u001b[0m\u001b[1;33m(\u001b[0m\u001b[0minplace\u001b[0m\u001b[1;33m=\u001b[0m\u001b[1;32mTrue\u001b[0m\u001b[1;33m)\u001b[0m\u001b[1;33m\u001b[0m\u001b[1;33m\u001b[0m\u001b[0m\n\u001b[0;32m      4\u001b[0m \u001b[0mdf_taxa\u001b[0m\u001b[1;33m[\u001b[0m\u001b[1;34m'MES'\u001b[0m\u001b[1;33m]\u001b[0m \u001b[1;33m=\u001b[0m \u001b[1;33m[\u001b[0m\u001b[1;34m'janeiro'\u001b[0m\u001b[1;33m,\u001b[0m\u001b[1;34m'fevereiro'\u001b[0m\u001b[1;33m,\u001b[0m\u001b[1;34m'mar'\u001b[0m\u001b[1;33m,\u001b[0m\u001b[1;34m'abril'\u001b[0m\u001b[1;33m,\u001b[0m\u001b[1;34m'maio'\u001b[0m\u001b[1;33m,\u001b[0m\u001b[1;34m'junho'\u001b[0m\u001b[1;33m,\u001b[0m\u001b[1;34m'julho'\u001b[0m\u001b[1;33m,\u001b[0m\u001b[1;34m'agosto'\u001b[0m\u001b[1;33m,\u001b[0m\u001b[1;34m'setembro'\u001b[0m\u001b[1;33m]\u001b[0m\u001b[1;33m\u001b[0m\u001b[1;33m\u001b[0m\u001b[0m\n\u001b[0;32m      5\u001b[0m \u001b[0mdf_taxa\u001b[0m\u001b[1;33m\u001b[0m\u001b[1;33m\u001b[0m\u001b[0m\n",
      "\u001b[1;31mNameError\u001b[0m: name 'dfcase' is not defined"
     ]
    }
   ],
   "source": [
    "df_taxa = pd.DataFrame()\n",
    "df_taxa['TAXA DE FX1 (%)'] = round((dfcase[dfcase['DS_ROLAGEM']=='FX1'].groupby('MES')['DS_ROLAGEM'].count()/dfcase.groupby('MES')['DS_ROLAGEM'].count())*100,2)\n",
    "df_taxa.reset_index(inplace=True)\n",
    "df_taxa['MES'] = ['janeiro','fevereiro','mar','abril','maio','junho','julho','agosto','setembro']\n",
    "df_taxa"
   ]
  },
  {
   "cell_type": "code",
   "execution_count": 67,
   "id": "aafe7a2d",
   "metadata": {},
   "outputs": [
    {
     "ename": "KeyError",
     "evalue": "'CONTAGEM'",
     "output_type": "error",
     "traceback": [
      "\u001b[1;31m---------------------------------------------------------------------------\u001b[0m",
      "\u001b[1;31mKeyError\u001b[0m                                  Traceback (most recent call last)",
      "\u001b[1;32mc:\\users\\cecilia\\appdata\\local\\programs\\python\\python39\\lib\\site-packages\\pandas\\core\\indexes\\base.py\u001b[0m in \u001b[0;36mget_loc\u001b[1;34m(self, key, method, tolerance)\u001b[0m\n\u001b[0;32m   3080\u001b[0m             \u001b[1;32mtry\u001b[0m\u001b[1;33m:\u001b[0m\u001b[1;33m\u001b[0m\u001b[1;33m\u001b[0m\u001b[0m\n\u001b[1;32m-> 3081\u001b[1;33m                 \u001b[1;32mreturn\u001b[0m \u001b[0mself\u001b[0m\u001b[1;33m.\u001b[0m\u001b[0m_engine\u001b[0m\u001b[1;33m.\u001b[0m\u001b[0mget_loc\u001b[0m\u001b[1;33m(\u001b[0m\u001b[0mcasted_key\u001b[0m\u001b[1;33m)\u001b[0m\u001b[1;33m\u001b[0m\u001b[1;33m\u001b[0m\u001b[0m\n\u001b[0m\u001b[0;32m   3082\u001b[0m             \u001b[1;32mexcept\u001b[0m \u001b[0mKeyError\u001b[0m \u001b[1;32mas\u001b[0m \u001b[0merr\u001b[0m\u001b[1;33m:\u001b[0m\u001b[1;33m\u001b[0m\u001b[1;33m\u001b[0m\u001b[0m\n",
      "\u001b[1;32mpandas\\_libs\\index.pyx\u001b[0m in \u001b[0;36mpandas._libs.index.IndexEngine.get_loc\u001b[1;34m()\u001b[0m\n",
      "\u001b[1;32mpandas\\_libs\\index.pyx\u001b[0m in \u001b[0;36mpandas._libs.index.IndexEngine.get_loc\u001b[1;34m()\u001b[0m\n",
      "\u001b[1;32mpandas\\_libs\\hashtable_class_helper.pxi\u001b[0m in \u001b[0;36mpandas._libs.hashtable.PyObjectHashTable.get_item\u001b[1;34m()\u001b[0m\n",
      "\u001b[1;32mpandas\\_libs\\hashtable_class_helper.pxi\u001b[0m in \u001b[0;36mpandas._libs.hashtable.PyObjectHashTable.get_item\u001b[1;34m()\u001b[0m\n",
      "\u001b[1;31mKeyError\u001b[0m: 'CONTAGEM'",
      "\nThe above exception was the direct cause of the following exception:\n",
      "\u001b[1;31mKeyError\u001b[0m                                  Traceback (most recent call last)",
      "\u001b[1;32m<ipython-input-67-4ac6812e6186>\u001b[0m in \u001b[0;36m<module>\u001b[1;34m\u001b[0m\n\u001b[0;32m      1\u001b[0m \u001b[0mdf_faturas_emitidas_por_mes\u001b[0m \u001b[1;33m=\u001b[0m \u001b[0mpd\u001b[0m\u001b[1;33m.\u001b[0m\u001b[0mDataFrame\u001b[0m\u001b[1;33m(\u001b[0m\u001b[1;33m)\u001b[0m\u001b[1;33m\u001b[0m\u001b[1;33m\u001b[0m\u001b[0m\n\u001b[1;32m----> 2\u001b[1;33m \u001b[0mdf_faturas_emitidas_por_mes\u001b[0m\u001b[1;33m[\u001b[0m\u001b[1;34m'Percentual FX1'\u001b[0m\u001b[1;33m]\u001b[0m \u001b[1;33m=\u001b[0m \u001b[0mdf_agrupamento\u001b[0m\u001b[1;33m[\u001b[0m\u001b[0mdf_agrupamento\u001b[0m\u001b[1;33m[\u001b[0m\u001b[1;34m'CONTAGEM'\u001b[0m\u001b[1;33m]\u001b[0m \u001b[1;33m==\u001b[0m \u001b[1;34m'FX1'\u001b[0m\u001b[1;33m]\u001b[0m\u001b[1;33m.\u001b[0m\u001b[0mgroupby\u001b[0m\u001b[1;33m(\u001b[0m\u001b[1;34m'DT_VENCIMENTO'\u001b[0m\u001b[1;33m)\u001b[0m\u001b[1;33m[\u001b[0m\u001b[1;34m'CONTAGEM'\u001b[0m\u001b[1;33m]\u001b[0m\u001b[1;33m.\u001b[0m\u001b[0mcount\u001b[0m\u001b[1;33m(\u001b[0m\u001b[1;33m)\u001b[0m\u001b[1;33m\u001b[0m\u001b[1;33m\u001b[0m\u001b[0m\n\u001b[0m\u001b[0;32m      3\u001b[0m \u001b[1;31m#/df_agrupamento.groupby('DT_VENCIMENTO')['CONTAGEM'].count(),4\u001b[0m\u001b[1;33m\u001b[0m\u001b[1;33m\u001b[0m\u001b[1;33m\u001b[0m\u001b[0m\n\u001b[0;32m      4\u001b[0m \u001b[1;31m#df_faturas_emitidas_por_mes['282 - 382'] = round((df_filtrado[(df_filtrado['RESPOSTA'] == 1) & (df_filtrado['INTERVALOS_DEFINIDOS'] == '282 - 382')].groupby('DT_ACORDO')['RESPOSTA'].count())/df_filtrado.groupby('DT_ACORDO')['RESPOSTA'].count(),4)*100\u001b[0m\u001b[1;33m\u001b[0m\u001b[1;33m\u001b[0m\u001b[1;33m\u001b[0m\u001b[0m\n\u001b[0;32m      5\u001b[0m \u001b[1;31m#df_faturas_emitidas_por_mes['383 - 483'] = round((df_filtrado[(df_filtrado['RESPOSTA'] == 1) & (df_filtrado['INTERVALOS_DEFINIDOS'] == '383 - 483')].groupby('DT_ACORDO')['RESPOSTA'].count())/df_filtrado.groupby('DT_ACORDO')['RESPOSTA'].count(),4)*100\u001b[0m\u001b[1;33m\u001b[0m\u001b[1;33m\u001b[0m\u001b[1;33m\u001b[0m\u001b[0m\n",
      "\u001b[1;32mc:\\users\\cecilia\\appdata\\local\\programs\\python\\python39\\lib\\site-packages\\pandas\\core\\series.py\u001b[0m in \u001b[0;36m__getitem__\u001b[1;34m(self, key)\u001b[0m\n\u001b[0;32m    851\u001b[0m \u001b[1;33m\u001b[0m\u001b[0m\n\u001b[0;32m    852\u001b[0m         \u001b[1;32melif\u001b[0m \u001b[0mkey_is_scalar\u001b[0m\u001b[1;33m:\u001b[0m\u001b[1;33m\u001b[0m\u001b[1;33m\u001b[0m\u001b[0m\n\u001b[1;32m--> 853\u001b[1;33m             \u001b[1;32mreturn\u001b[0m \u001b[0mself\u001b[0m\u001b[1;33m.\u001b[0m\u001b[0m_get_value\u001b[0m\u001b[1;33m(\u001b[0m\u001b[0mkey\u001b[0m\u001b[1;33m)\u001b[0m\u001b[1;33m\u001b[0m\u001b[1;33m\u001b[0m\u001b[0m\n\u001b[0m\u001b[0;32m    854\u001b[0m \u001b[1;33m\u001b[0m\u001b[0m\n\u001b[0;32m    855\u001b[0m         \u001b[1;32mif\u001b[0m \u001b[0mis_hashable\u001b[0m\u001b[1;33m(\u001b[0m\u001b[0mkey\u001b[0m\u001b[1;33m)\u001b[0m\u001b[1;33m:\u001b[0m\u001b[1;33m\u001b[0m\u001b[1;33m\u001b[0m\u001b[0m\n",
      "\u001b[1;32mc:\\users\\cecilia\\appdata\\local\\programs\\python\\python39\\lib\\site-packages\\pandas\\core\\series.py\u001b[0m in \u001b[0;36m_get_value\u001b[1;34m(self, label, takeable)\u001b[0m\n\u001b[0;32m    959\u001b[0m \u001b[1;33m\u001b[0m\u001b[0m\n\u001b[0;32m    960\u001b[0m         \u001b[1;31m# Similar to Index.get_value, but we do not fall back to positional\u001b[0m\u001b[1;33m\u001b[0m\u001b[1;33m\u001b[0m\u001b[1;33m\u001b[0m\u001b[0m\n\u001b[1;32m--> 961\u001b[1;33m         \u001b[0mloc\u001b[0m \u001b[1;33m=\u001b[0m \u001b[0mself\u001b[0m\u001b[1;33m.\u001b[0m\u001b[0mindex\u001b[0m\u001b[1;33m.\u001b[0m\u001b[0mget_loc\u001b[0m\u001b[1;33m(\u001b[0m\u001b[0mlabel\u001b[0m\u001b[1;33m)\u001b[0m\u001b[1;33m\u001b[0m\u001b[1;33m\u001b[0m\u001b[0m\n\u001b[0m\u001b[0;32m    962\u001b[0m         \u001b[1;32mreturn\u001b[0m \u001b[0mself\u001b[0m\u001b[1;33m.\u001b[0m\u001b[0mindex\u001b[0m\u001b[1;33m.\u001b[0m\u001b[0m_get_values_for_loc\u001b[0m\u001b[1;33m(\u001b[0m\u001b[0mself\u001b[0m\u001b[1;33m,\u001b[0m \u001b[0mloc\u001b[0m\u001b[1;33m,\u001b[0m \u001b[0mlabel\u001b[0m\u001b[1;33m)\u001b[0m\u001b[1;33m\u001b[0m\u001b[1;33m\u001b[0m\u001b[0m\n\u001b[0;32m    963\u001b[0m \u001b[1;33m\u001b[0m\u001b[0m\n",
      "\u001b[1;32mc:\\users\\cecilia\\appdata\\local\\programs\\python\\python39\\lib\\site-packages\\pandas\\core\\indexes\\multi.py\u001b[0m in \u001b[0;36mget_loc\u001b[1;34m(self, key, method)\u001b[0m\n\u001b[0;32m   2874\u001b[0m \u001b[1;33m\u001b[0m\u001b[0m\n\u001b[0;32m   2875\u001b[0m         \u001b[1;32mif\u001b[0m \u001b[1;32mnot\u001b[0m \u001b[0misinstance\u001b[0m\u001b[1;33m(\u001b[0m\u001b[0mkey\u001b[0m\u001b[1;33m,\u001b[0m \u001b[0mtuple\u001b[0m\u001b[1;33m)\u001b[0m\u001b[1;33m:\u001b[0m\u001b[1;33m\u001b[0m\u001b[1;33m\u001b[0m\u001b[0m\n\u001b[1;32m-> 2876\u001b[1;33m             \u001b[0mloc\u001b[0m \u001b[1;33m=\u001b[0m \u001b[0mself\u001b[0m\u001b[1;33m.\u001b[0m\u001b[0m_get_level_indexer\u001b[0m\u001b[1;33m(\u001b[0m\u001b[0mkey\u001b[0m\u001b[1;33m,\u001b[0m \u001b[0mlevel\u001b[0m\u001b[1;33m=\u001b[0m\u001b[1;36m0\u001b[0m\u001b[1;33m)\u001b[0m\u001b[1;33m\u001b[0m\u001b[1;33m\u001b[0m\u001b[0m\n\u001b[0m\u001b[0;32m   2877\u001b[0m             \u001b[1;32mreturn\u001b[0m \u001b[0m_maybe_to_slice\u001b[0m\u001b[1;33m(\u001b[0m\u001b[0mloc\u001b[0m\u001b[1;33m)\u001b[0m\u001b[1;33m\u001b[0m\u001b[1;33m\u001b[0m\u001b[0m\n\u001b[0;32m   2878\u001b[0m \u001b[1;33m\u001b[0m\u001b[0m\n",
      "\u001b[1;32mc:\\users\\cecilia\\appdata\\local\\programs\\python\\python39\\lib\\site-packages\\pandas\\core\\indexes\\multi.py\u001b[0m in \u001b[0;36m_get_level_indexer\u001b[1;34m(self, key, level, indexer)\u001b[0m\n\u001b[0;32m   3156\u001b[0m         \u001b[1;32melse\u001b[0m\u001b[1;33m:\u001b[0m\u001b[1;33m\u001b[0m\u001b[1;33m\u001b[0m\u001b[0m\n\u001b[0;32m   3157\u001b[0m \u001b[1;33m\u001b[0m\u001b[0m\n\u001b[1;32m-> 3158\u001b[1;33m             \u001b[0midx\u001b[0m \u001b[1;33m=\u001b[0m \u001b[0mself\u001b[0m\u001b[1;33m.\u001b[0m\u001b[0m_get_loc_single_level_index\u001b[0m\u001b[1;33m(\u001b[0m\u001b[0mlevel_index\u001b[0m\u001b[1;33m,\u001b[0m \u001b[0mkey\u001b[0m\u001b[1;33m)\u001b[0m\u001b[1;33m\u001b[0m\u001b[1;33m\u001b[0m\u001b[0m\n\u001b[0m\u001b[0;32m   3159\u001b[0m \u001b[1;33m\u001b[0m\u001b[0m\n\u001b[0;32m   3160\u001b[0m             \u001b[1;32mif\u001b[0m \u001b[0mlevel\u001b[0m \u001b[1;33m>\u001b[0m \u001b[1;36m0\u001b[0m \u001b[1;32mor\u001b[0m \u001b[0mself\u001b[0m\u001b[1;33m.\u001b[0m\u001b[0mlexsort_depth\u001b[0m \u001b[1;33m==\u001b[0m \u001b[1;36m0\u001b[0m\u001b[1;33m:\u001b[0m\u001b[1;33m\u001b[0m\u001b[1;33m\u001b[0m\u001b[0m\n",
      "\u001b[1;32mc:\\users\\cecilia\\appdata\\local\\programs\\python\\python39\\lib\\site-packages\\pandas\\core\\indexes\\multi.py\u001b[0m in \u001b[0;36m_get_loc_single_level_index\u001b[1;34m(self, level_index, key)\u001b[0m\n\u001b[0;32m   2807\u001b[0m             \u001b[1;32mreturn\u001b[0m \u001b[1;33m-\u001b[0m\u001b[1;36m1\u001b[0m\u001b[1;33m\u001b[0m\u001b[1;33m\u001b[0m\u001b[0m\n\u001b[0;32m   2808\u001b[0m         \u001b[1;32melse\u001b[0m\u001b[1;33m:\u001b[0m\u001b[1;33m\u001b[0m\u001b[1;33m\u001b[0m\u001b[0m\n\u001b[1;32m-> 2809\u001b[1;33m             \u001b[1;32mreturn\u001b[0m \u001b[0mlevel_index\u001b[0m\u001b[1;33m.\u001b[0m\u001b[0mget_loc\u001b[0m\u001b[1;33m(\u001b[0m\u001b[0mkey\u001b[0m\u001b[1;33m)\u001b[0m\u001b[1;33m\u001b[0m\u001b[1;33m\u001b[0m\u001b[0m\n\u001b[0m\u001b[0;32m   2810\u001b[0m \u001b[1;33m\u001b[0m\u001b[0m\n\u001b[0;32m   2811\u001b[0m     \u001b[1;32mdef\u001b[0m \u001b[0mget_loc\u001b[0m\u001b[1;33m(\u001b[0m\u001b[0mself\u001b[0m\u001b[1;33m,\u001b[0m \u001b[0mkey\u001b[0m\u001b[1;33m,\u001b[0m \u001b[0mmethod\u001b[0m\u001b[1;33m=\u001b[0m\u001b[1;32mNone\u001b[0m\u001b[1;33m)\u001b[0m\u001b[1;33m:\u001b[0m\u001b[1;33m\u001b[0m\u001b[1;33m\u001b[0m\u001b[0m\n",
      "\u001b[1;32mc:\\users\\cecilia\\appdata\\local\\programs\\python\\python39\\lib\\site-packages\\pandas\\core\\indexes\\base.py\u001b[0m in \u001b[0;36mget_loc\u001b[1;34m(self, key, method, tolerance)\u001b[0m\n\u001b[0;32m   3081\u001b[0m                 \u001b[1;32mreturn\u001b[0m \u001b[0mself\u001b[0m\u001b[1;33m.\u001b[0m\u001b[0m_engine\u001b[0m\u001b[1;33m.\u001b[0m\u001b[0mget_loc\u001b[0m\u001b[1;33m(\u001b[0m\u001b[0mcasted_key\u001b[0m\u001b[1;33m)\u001b[0m\u001b[1;33m\u001b[0m\u001b[1;33m\u001b[0m\u001b[0m\n\u001b[0;32m   3082\u001b[0m             \u001b[1;32mexcept\u001b[0m \u001b[0mKeyError\u001b[0m \u001b[1;32mas\u001b[0m \u001b[0merr\u001b[0m\u001b[1;33m:\u001b[0m\u001b[1;33m\u001b[0m\u001b[1;33m\u001b[0m\u001b[0m\n\u001b[1;32m-> 3083\u001b[1;33m                 \u001b[1;32mraise\u001b[0m \u001b[0mKeyError\u001b[0m\u001b[1;33m(\u001b[0m\u001b[0mkey\u001b[0m\u001b[1;33m)\u001b[0m \u001b[1;32mfrom\u001b[0m \u001b[0merr\u001b[0m\u001b[1;33m\u001b[0m\u001b[1;33m\u001b[0m\u001b[0m\n\u001b[0m\u001b[0;32m   3084\u001b[0m \u001b[1;33m\u001b[0m\u001b[0m\n\u001b[0;32m   3085\u001b[0m         \u001b[1;32mif\u001b[0m \u001b[0mtolerance\u001b[0m \u001b[1;32mis\u001b[0m \u001b[1;32mnot\u001b[0m \u001b[1;32mNone\u001b[0m\u001b[1;33m:\u001b[0m\u001b[1;33m\u001b[0m\u001b[1;33m\u001b[0m\u001b[0m\n",
      "\u001b[1;31mKeyError\u001b[0m: 'CONTAGEM'"
     ]
    }
   ],
   "source": [
    "df_faturas_emitidas_por_mes = pd.DataFrame()\n",
    "df_faturas_emitidas_por_mes['Percentual FX1'] = df_agrupamento[df_agrupamento['DS_ROLAGEM'] == 'FX1'].groupby('DT_VENCIMENTO')['CONTAGEM'].count()\n",
    "#/df_agrupamento.groupby('DT_VENCIMENTO')['CONTAGEM'].count(),4\n",
    "#df_faturas_emitidas_por_mes['282 - 382'] = round((df_filtrado[(df_filtrado['RESPOSTA'] == 1) & (df_filtrado['INTERVALOS_DEFINIDOS'] == '282 - 382')].groupby('DT_ACORDO')['RESPOSTA'].count())/df_filtrado.groupby('DT_ACORDO')['RESPOSTA'].count(),4)*100\n",
    "#df_faturas_emitidas_por_mes['383 - 483'] = round((df_filtrado[(df_filtrado['RESPOSTA'] == 1) & (df_filtrado['INTERVALOS_DEFINIDOS'] == '383 - 483')].groupby('DT_ACORDO')['RESPOSTA'].count())/df_filtrado.groupby('DT_ACORDO')['RESPOSTA'].count(),4)*100\n",
    "#df_faturas_emitidas_por_mes['Maior que 484'] = round((df_filtrado[(df_filtrado['RESPOSTA'] == 1) & (df_filtrado['INTERVALOS_DEFINIDOS'] == 'Maior que 484')].groupby('DT_ACORDO')['RESPOSTA'].count())/df_filtrado.groupby('DT_ACORDO')['RESPOSTA'].count(),4)*100\n",
    "df_faturas_emitidas_por_mes"
   ]
  },
  {
   "cell_type": "code",
   "execution_count": null,
   "id": "646e0084",
   "metadata": {},
   "outputs": [],
   "source": []
  },
  {
   "cell_type": "code",
   "execution_count": null,
   "id": "b867784f",
   "metadata": {},
   "outputs": [],
   "source": []
  },
  {
   "cell_type": "code",
   "execution_count": 118,
   "id": "1750736b",
   "metadata": {},
   "outputs": [],
   "source": [
    "#df_taxa['TAXA DE FX1 (%)'] = round((dfcase[dfcase['DS_ROLAGEM']=='FX1'].groupby('MES')['DS_ROLAGEM'].count()/dfcase.groupby('MES')['DS_ROLAGEM'].count())*100\n",
    "#df_porcentagem['(%) Faturas não pagas'] = df_agrupamento[df_agrupamento['DS_ROLAGEM'] == 'FX1'].groupy('DT_VENCIMENTO')['DS_ROLAGEM'].count()"
   ]
  },
  {
   "cell_type": "markdown",
   "id": "22b8608a",
   "metadata": {},
   "source": [
    "### Graficamente:"
   ]
  },
  {
   "cell_type": "code",
   "execution_count": null,
   "id": "da452b78",
   "metadata": {
    "scrolled": true
   },
   "outputs": [],
   "source": [
    "# Gráfico"
   ]
  },
  {
   "cell_type": "code",
   "execution_count": null,
   "id": "0532869c",
   "metadata": {
    "scrolled": false
   },
   "outputs": [],
   "source": []
  },
  {
   "cell_type": "markdown",
   "id": "b95a6138",
   "metadata": {},
   "source": [
    "### 1.2. Tendo como referência todos os clientes que tiveram fatura emitida no mês de setembro, gere uma base para esses clientes com os seguintes calculados:\n",
    "- Total de faturas emitidas nos últimos 6 meses (sem contar com a fatura de setembro);\n",
    "- O valor médio de fatura nos últimos 6 meses (sem contar com a fatura de setembro);\n",
    "- Quantidade de vezes que ele ficou sem pagar a fatura anterior nos últimos 6 meses (sem contar com a fatura de setembro). \n",
    "***"
   ]
  }
 ],
 "metadata": {
  "kernelspec": {
   "display_name": "Python 3",
   "language": "python",
   "name": "python3"
  },
  "language_info": {
   "codemirror_mode": {
    "name": "ipython",
    "version": 3
   },
   "file_extension": ".py",
   "mimetype": "text/x-python",
   "name": "python",
   "nbconvert_exporter": "python",
   "pygments_lexer": "ipython3",
   "version": "3.9.4"
  }
 },
 "nbformat": 4,
 "nbformat_minor": 5
}
